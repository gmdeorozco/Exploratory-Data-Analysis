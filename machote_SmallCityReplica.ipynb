{
  "nbformat": 4,
  "nbformat_minor": 0,
  "metadata": {
    "colab": {
      "provenance": [],
      "authorship_tag": "ABX9TyO5De5zCHTCHv3QMJn7SSl/",
      "include_colab_link": true
    },
    "kernelspec": {
      "name": "python3",
      "display_name": "Python 3"
    },
    "language_info": {
      "name": "python"
    }
  },
  "cells": [
    {
      "cell_type": "markdown",
      "metadata": {
        "id": "view-in-github",
        "colab_type": "text"
      },
      "source": [
        "<a href=\"https://colab.research.google.com/github/gmdeorozco/Exploratory-Data-Analysis/blob/main/machote_SmallCityReplica.ipynb\" target=\"_parent\"><img src=\"https://colab.research.google.com/assets/colab-badge.svg\" alt=\"Open In Colab\"/></a>"
      ]
    },
    {
      "cell_type": "markdown",
      "source": [
        "# 1. Import packages"
      ],
      "metadata": {
        "id": "5AAzRcyxs0CU"
      }
    },
    {
      "cell_type": "code",
      "source": [],
      "metadata": {
        "id": "AXNej4evs6zx"
      },
      "execution_count": null,
      "outputs": []
    },
    {
      "cell_type": "markdown",
      "source": [
        "## 2. Download data from:\n",
        "'https://cf-courses-data.s3.us.cloud-object-storage.appdomain.cloud/IBM-ML0232EN-SkillsNetwork/asset/Ames_Housing_Data1.tsv'"
      ],
      "metadata": {
        "id": "ENfBb7XDs7qa"
      }
    },
    {
      "cell_type": "code",
      "source": [],
      "metadata": {
        "id": "S317S1PmtGK4"
      },
      "execution_count": null,
      "outputs": []
    },
    {
      "cell_type": "markdown",
      "source": [
        "##3. View mean, max, min etc of the Sale Price of houses"
      ],
      "metadata": {
        "id": "Sd9HGsDBtHyT"
      }
    },
    {
      "cell_type": "code",
      "source": [],
      "metadata": {
        "id": "KSPBAEWJtL_A"
      },
      "execution_count": null,
      "outputs": []
    },
    {
      "cell_type": "markdown",
      "source": [
        "### 4. Plot the number of occurrencies of each Sale condition values."
      ],
      "metadata": {
        "id": "9RiR3QzHtM2K"
      }
    },
    {
      "cell_type": "code",
      "source": [],
      "metadata": {
        "id": "9ud2QCqCtSWs"
      },
      "execution_count": null,
      "outputs": []
    },
    {
      "cell_type": "markdown",
      "source": [
        "\n",
        "\n",
        "# LOOKING FOR CORRELATIONS\n",
        "##5. Find the rows with correlation > 0.50 to Sales Prices"
      ],
      "metadata": {
        "id": "hnTGj_y5tTHT"
      }
    },
    {
      "cell_type": "code",
      "source": [],
      "metadata": {
        "id": "R2MfZN0Utag5"
      },
      "execution_count": null,
      "outputs": []
    },
    {
      "cell_type": "markdown",
      "source": [
        "### 6. With a for loop visually check the correlation using sns plot in pairs."
      ],
      "metadata": {
        "id": "HlE04e2utb5S"
      }
    },
    {
      "cell_type": "code",
      "source": [],
      "metadata": {
        "id": "w2T2GpI3teoT"
      },
      "execution_count": null,
      "outputs": []
    },
    {
      "cell_type": "markdown",
      "source": [
        "\n",
        "# LOG TRANSFORMATION\n",
        "## 7. with seaborn plot a distribution histogram"
      ],
      "metadata": {
        "id": "wWf4kfA6tggF"
      }
    },
    {
      "cell_type": "code",
      "source": [],
      "metadata": {
        "id": "JRp7MEv0tm9Y"
      },
      "execution_count": null,
      "outputs": []
    },
    {
      "cell_type": "markdown",
      "source": [
        "\n",
        "## 8. Print the skewness of the target values"
      ],
      "metadata": {
        "id": "UUieKQx9tnqi"
      }
    },
    {
      "cell_type": "code",
      "source": [],
      "metadata": {
        "id": "PigXNUdctp9w"
      },
      "execution_count": null,
      "outputs": []
    },
    {
      "cell_type": "markdown",
      "source": [
        "\n",
        "## 9. Perform numpy log transform"
      ],
      "metadata": {
        "id": "TZA06ER-tqnS"
      }
    },
    {
      "cell_type": "code",
      "source": [],
      "metadata": {
        "id": "Z_-6Q65Yttoo"
      },
      "execution_count": null,
      "outputs": []
    },
    {
      "cell_type": "markdown",
      "source": [
        "## 10. Print Distribution Histogram and Skewness value of the transformed data"
      ],
      "metadata": {
        "id": "l2rqqzWrtvcH"
      }
    },
    {
      "cell_type": "code",
      "source": [],
      "metadata": {
        "id": "EU89ljtQtzQI"
      },
      "execution_count": null,
      "outputs": []
    },
    {
      "cell_type": "markdown",
      "source": [
        "\n",
        "# HANDLING THE DUPLICATES\n",
        "## 11. Print the duplicated values per 'PID'"
      ],
      "metadata": {
        "id": "VdAKn_VQt0Jz"
      }
    },
    {
      "cell_type": "code",
      "source": [],
      "metadata": {
        "id": "htqr20dvt3D4"
      },
      "execution_count": null,
      "outputs": []
    },
    {
      "cell_type": "markdown",
      "source": [
        "\n",
        "## 12. Using pandas command delete duplicates"
      ],
      "metadata": {
        "id": "2yOmdPhYt3u7"
      }
    },
    {
      "cell_type": "code",
      "source": [],
      "metadata": {
        "id": "I1ASFRxrt5g4"
      },
      "execution_count": null,
      "outputs": []
    },
    {
      "cell_type": "markdown",
      "source": [
        "# HANDLING THE MISSING VALUES\n",
        "## 13. Create dataframe with the 20 columns that have more missing values."
      ],
      "metadata": {
        "id": "B2YwUN9dt6Uq"
      }
    },
    {
      "cell_type": "code",
      "source": [],
      "metadata": {
        "id": "qMAA9zOXuBso"
      },
      "execution_count": null,
      "outputs": []
    },
    {
      "cell_type": "markdown",
      "source": [
        "\n",
        "## 14. Plot a bar chart with the selected columns, size (8,6), font 10. X Label \"Columns\", Y label \"Count\", Title \"Total Missing Values\" font 20)"
      ],
      "metadata": {
        "id": "TYSkgNaHuCjb"
      }
    },
    {
      "cell_type": "code",
      "source": [],
      "metadata": {
        "id": "guVyO5QkuIkI"
      },
      "execution_count": null,
      "outputs": []
    },
    {
      "cell_type": "markdown",
      "source": [
        "## 15. Drop the null values on \"Lot Frontage\""
      ],
      "metadata": {
        "id": "VBo4P1qGuJb7"
      }
    },
    {
      "cell_type": "code",
      "source": [],
      "metadata": {
        "id": "wJq2WQHRuN4T"
      },
      "execution_count": null,
      "outputs": []
    },
    {
      "cell_type": "markdown",
      "source": [
        "## 16. Drop \"Lot Frontage\" column, but not in place"
      ],
      "metadata": {
        "id": "B06wiIcUuOlb"
      }
    },
    {
      "cell_type": "code",
      "source": [],
      "metadata": {
        "id": "bvFceln3uR1I"
      },
      "execution_count": null,
      "outputs": []
    },
    {
      "cell_type": "markdown",
      "source": [
        "## 17. Fill \"Lot Frontage\" null values with the median (in place)"
      ],
      "metadata": {
        "id": "X0E9-v0muSdL"
      }
    },
    {
      "cell_type": "code",
      "source": [],
      "metadata": {
        "id": "qmzYTjtVuVjA"
      },
      "execution_count": null,
      "outputs": []
    },
    {
      "cell_type": "markdown",
      "source": [
        "# FEATURE SCALING\n",
        "## 18. Do code for Normalizing numeric features"
      ],
      "metadata": {
        "id": "xATkeB0KuWGr"
      }
    },
    {
      "cell_type": "code",
      "source": [],
      "metadata": {
        "id": "rV9_9bYFuZBA"
      },
      "execution_count": null,
      "outputs": []
    },
    {
      "cell_type": "markdown",
      "source": [
        "## 19. Do code for Standarizing numeric features"
      ],
      "metadata": {
        "id": "H5xF_krsuZ-8"
      }
    },
    {
      "cell_type": "code",
      "source": [],
      "metadata": {
        "id": "WobNiLCAucaZ"
      },
      "execution_count": null,
      "outputs": []
    },
    {
      "cell_type": "markdown",
      "source": [
        "\n",
        "# HANDLING THE OUTLIERS\n",
        "## 20. Perform box plot for Lot Area and for Sales Price"
      ],
      "metadata": {
        "id": "bsRUMDmYudEk"
      }
    },
    {
      "cell_type": "code",
      "source": [],
      "metadata": {
        "id": "wnc3dqgGugCp"
      },
      "execution_count": null,
      "outputs": []
    },
    {
      "cell_type": "markdown",
      "source": [
        "\n",
        "### 21. Plot Scatter plot of Gr Liv Area and Sales Price"
      ],
      "metadata": {
        "id": "MbhaD_Bmugm3"
      }
    },
    {
      "cell_type": "code",
      "source": [],
      "metadata": {
        "id": "lsxE4kUHuiEV"
      },
      "execution_count": null,
      "outputs": []
    }
  ]
}