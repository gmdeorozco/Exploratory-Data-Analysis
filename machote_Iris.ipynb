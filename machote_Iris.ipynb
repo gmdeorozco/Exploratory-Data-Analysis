{
  "nbformat": 4,
  "nbformat_minor": 0,
  "metadata": {
    "colab": {
      "provenance": [],
      "authorship_tag": "ABX9TyO5zj0swo69vT8PeOBeWlG0",
      "include_colab_link": true
    },
    "kernelspec": {
      "name": "python3",
      "display_name": "Python 3"
    },
    "language_info": {
      "name": "python"
    }
  },
  "cells": [
    {
      "cell_type": "markdown",
      "metadata": {
        "id": "view-in-github",
        "colab_type": "text"
      },
      "source": [
        "<a href=\"https://colab.research.google.com/github/gmdeorozco/Exploratory-Data-Analysis/blob/main/machote_Iris.ipynb\" target=\"_parent\"><img src=\"https://colab.research.google.com/assets/colab-badge.svg\" alt=\"Open In Colab\"/></a>"
      ]
    },
    {
      "cell_type": "markdown",
      "source": [
        "## 1. Import libraries"
      ],
      "metadata": {
        "id": "JqqHV-iT8PJA"
      }
    },
    {
      "cell_type": "code",
      "execution_count": null,
      "metadata": {
        "id": "UszoY-Pu8Cnl"
      },
      "outputs": [],
      "source": []
    },
    {
      "cell_type": "markdown",
      "source": [
        "# 2. Load the data from\n",
        "'https://cf-courses-data.s3.us.cloud-object-storage.appdomain.cloud/IBM-ML0232EN-SkillsNetwork/asset/iris_data.csv'"
      ],
      "metadata": {
        "id": "l2ROhtOg8XAU"
      }
    },
    {
      "cell_type": "code",
      "source": [
        "URL = 'https://cf-courses-data.s3.us.cloud-object-storage.appdomain.cloud/IBM-ML0232EN-SkillsNetwork/asset/iris_data.csv'"
      ],
      "metadata": {
        "id": "4nXKPwCj8bzc"
      },
      "execution_count": 1,
      "outputs": []
    },
    {
      "cell_type": "code",
      "source": [],
      "metadata": {
        "id": "Fk9Kv9gW8jj1"
      },
      "execution_count": null,
      "outputs": []
    },
    {
      "cell_type": "markdown",
      "source": [
        "# 3. Determine the following:\n",
        "- Number of data points(rows)\n",
        "- Column names\n",
        "- The data types of each column"
      ],
      "metadata": {
        "id": "dTKDCrBD8ogl"
      }
    },
    {
      "cell_type": "code",
      "source": [],
      "metadata": {
        "id": "If1kw6RR8_Si"
      },
      "execution_count": null,
      "outputs": []
    },
    {
      "cell_type": "markdown",
      "source": [
        "### 4. Examine the species names and note that they all begin with 'Iris-'. Remove this portion of the name so the species name is shorter."
      ],
      "metadata": {
        "id": "aWjQNbfu9AKd"
      }
    },
    {
      "cell_type": "code",
      "source": [],
      "metadata": {
        "id": "q0nhHIMF9NOl"
      },
      "execution_count": null,
      "outputs": []
    },
    {
      "cell_type": "markdown",
      "source": [
        "### 5. Determine:\n",
        "- The number of each species present\n",
        "- The mean, median and quantities and ranges (max-min) of each petal and sepal measurement"
      ],
      "metadata": {
        "id": "XQ9rFnQw9WG0"
      }
    },
    {
      "cell_type": "code",
      "source": [],
      "metadata": {
        "id": "6ed2lt3l9k3V"
      },
      "execution_count": null,
      "outputs": []
    },
    {
      "cell_type": "markdown",
      "source": [
        "## 6. Calculate the following for each species in a separate dataframe:\n",
        "\n",
        "- The mean of each measurement (sepal_length, sepal_width, petal_length, and petal_width).\n",
        "- The median of each of these measurements."
      ],
      "metadata": {
        "id": "LmeYHsYi-S4k"
      }
    },
    {
      "cell_type": "markdown",
      "source": [
        "### 7.Make a scatter plot of sepal_length vs sepal_width using Matplotlib. Label the axes and give the plot a title."
      ],
      "metadata": {
        "id": "dTNtS6ui_Ahr"
      }
    },
    {
      "cell_type": "code",
      "source": [],
      "metadata": {
        "id": "xFbUa4xh-rR8"
      },
      "execution_count": null,
      "outputs": []
    },
    {
      "cell_type": "markdown",
      "source": [
        "## 8. Make a scatter plot of sepal_length vs sepal_width using Matplotlib. Label the axes and give the plot a title."
      ],
      "metadata": {
        "id": "RZeDW6OY_OPy"
      }
    },
    {
      "cell_type": "code",
      "source": [],
      "metadata": {
        "id": "UtJ8Pi4E_jWa"
      },
      "execution_count": null,
      "outputs": []
    },
    {
      "cell_type": "markdown",
      "source": [
        "### 9. now create a single plot with histograms for each feature (petal_width, petal_length, sepal_width, sepal_length) overlayed"
      ],
      "metadata": {
        "id": "QkquaQH5_kBt"
      }
    },
    {
      "cell_type": "code",
      "source": [],
      "metadata": {
        "id": "OE130o1DABV2"
      },
      "execution_count": null,
      "outputs": []
    },
    {
      "cell_type": "markdown",
      "source": [
        "### 10. Using Pandas, make a boxplot of each petal and sepal measurement. "
      ],
      "metadata": {
        "id": "_oMQj3DpACda"
      }
    },
    {
      "cell_type": "code",
      "source": [],
      "metadata": {
        "id": "PlfUpwMsAVgl"
      },
      "execution_count": null,
      "outputs": []
    },
    {
      "cell_type": "markdown",
      "source": [
        "### 11. Now make a single boxplot where the features are separated in the x-axis and species are colored with different hues."
      ],
      "metadata": {
        "id": "wW2164DCAX3S"
      }
    },
    {
      "cell_type": "code",
      "source": [],
      "metadata": {
        "id": "daZjH8xnA0Je"
      },
      "execution_count": null,
      "outputs": []
    },
    {
      "cell_type": "markdown",
      "source": [
        "### 12. Make a pairplot with Seaborn to examine the correlation between each of the measurements."
      ],
      "metadata": {
        "id": "RkM0Nf_yA9ky"
      }
    },
    {
      "cell_type": "code",
      "source": [],
      "metadata": {
        "id": "6KT4BDqNA-kt"
      },
      "execution_count": null,
      "outputs": []
    }
  ]
}