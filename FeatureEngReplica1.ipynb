{
  "nbformat": 4,
  "nbformat_minor": 0,
  "metadata": {
    "colab": {
      "provenance": [],
      "authorship_tag": "ABX9TyMV7TBzqxpSu01QBejPN/Hl",
      "include_colab_link": true
    },
    "kernelspec": {
      "name": "python3",
      "display_name": "Python 3"
    },
    "language_info": {
      "name": "python"
    }
  },
  "cells": [
    {
      "cell_type": "markdown",
      "metadata": {
        "id": "view-in-github",
        "colab_type": "text"
      },
      "source": [
        "<a href=\"https://colab.research.google.com/github/gmdeorozco/Exploratory-Data-Analysis/blob/main/FeatureEngReplica1.ipynb\" target=\"_parent\"><img src=\"https://colab.research.google.com/assets/colab-badge.svg\" alt=\"Open In Colab\"/></a>"
      ]
    },
    {
      "cell_type": "markdown",
      "source": [
        "### 1. Import Packages"
      ],
      "metadata": {
        "id": "FJ0mu-Aw3-x-"
      }
    },
    {
      "cell_type": "code",
      "execution_count": 6,
      "metadata": {
        "id": "v6nnRqx23TFv"
      },
      "outputs": [],
      "source": [
        "import pandas as pd\n",
        "import numpy as np\n"
      ]
    },
    {
      "cell_type": "markdown",
      "source": [
        "## 2. Load Data \n",
        "sep = \\t"
      ],
      "metadata": {
        "id": "tcu3VjS94EHi"
      }
    },
    {
      "cell_type": "code",
      "source": [
        "URL = 'https://cf-courses-data.s3.us.cloud-object-storage.appdomain.cloud/IBM-ML0232EN-SkillsNetwork/asset/Ames_Housing_Data.tsv'\n",
        "data = pd.read_csv(URL, sep='\\t')"
      ],
      "metadata": {
        "id": "ykKlnFV-4HAO"
      },
      "execution_count": 2,
      "outputs": []
    },
    {
      "cell_type": "markdown",
      "source": [
        "## 3. Print the number of rows and columns in the Data"
      ],
      "metadata": {
        "id": "9_mLana06_f_"
      }
    },
    {
      "cell_type": "code",
      "source": [
        "print('number of rows -> ', data.shape[0])\n",
        "print('number of cols -> ', data.shape[1])"
      ],
      "metadata": {
        "colab": {
          "base_uri": "https://localhost:8080/"
        },
        "id": "P5OBKKx54f7w",
        "outputId": "bad7d40f-4f2d-40d6-807d-140e46c9daee"
      },
      "execution_count": 3,
      "outputs": [
        {
          "output_type": "stream",
          "name": "stdout",
          "text": [
            "number of rows ->  2930\n",
            "number of cols ->  82\n"
          ]
        }
      ]
    },
    {
      "cell_type": "markdown",
      "source": [
        "## 4. Create a dataset including Gr Liv Area lower or equal to 4000"
      ],
      "metadata": {
        "id": "MZl2sdMi7MWC"
      }
    },
    {
      "cell_type": "code",
      "source": [
        "data1 = data.copy()\n",
        "data1 = data1.loc[ data1['Gr Liv Area']<=4000,:]\n",
        "data1.head()"
      ],
      "metadata": {
        "colab": {
          "base_uri": "https://localhost:8080/",
          "height": 317
        },
        "id": "P0-ZpVsM7fo6",
        "outputId": "a747b3c1-3991-4541-da1c-554a13e05c5b"
      },
      "execution_count": 4,
      "outputs": [
        {
          "output_type": "execute_result",
          "data": {
            "text/plain": [
              "   Order        PID  MS SubClass MS Zoning  Lot Frontage  Lot Area Street  \\\n",
              "0      1  526301100           20        RL         141.0     31770   Pave   \n",
              "1      2  526350040           20        RH          80.0     11622   Pave   \n",
              "2      3  526351010           20        RL          81.0     14267   Pave   \n",
              "3      4  526353030           20        RL          93.0     11160   Pave   \n",
              "4      5  527105010           60        RL          74.0     13830   Pave   \n",
              "\n",
              "  Alley Lot Shape Land Contour  ... Pool Area Pool QC  Fence Misc Feature  \\\n",
              "0   NaN       IR1          Lvl  ...         0     NaN    NaN          NaN   \n",
              "1   NaN       Reg          Lvl  ...         0     NaN  MnPrv          NaN   \n",
              "2   NaN       IR1          Lvl  ...         0     NaN    NaN         Gar2   \n",
              "3   NaN       Reg          Lvl  ...         0     NaN    NaN          NaN   \n",
              "4   NaN       IR1          Lvl  ...         0     NaN  MnPrv          NaN   \n",
              "\n",
              "  Misc Val Mo Sold Yr Sold Sale Type  Sale Condition  SalePrice  \n",
              "0        0       5    2010       WD           Normal     215000  \n",
              "1        0       6    2010       WD           Normal     105000  \n",
              "2    12500       6    2010       WD           Normal     172000  \n",
              "3        0       4    2010       WD           Normal     244000  \n",
              "4        0       3    2010       WD           Normal     189900  \n",
              "\n",
              "[5 rows x 82 columns]"
            ],
            "text/html": [
              "\n",
              "  <div id=\"df-34a05240-64f5-4e24-a0df-df01b1e6d1d3\">\n",
              "    <div class=\"colab-df-container\">\n",
              "      <div>\n",
              "<style scoped>\n",
              "    .dataframe tbody tr th:only-of-type {\n",
              "        vertical-align: middle;\n",
              "    }\n",
              "\n",
              "    .dataframe tbody tr th {\n",
              "        vertical-align: top;\n",
              "    }\n",
              "\n",
              "    .dataframe thead th {\n",
              "        text-align: right;\n",
              "    }\n",
              "</style>\n",
              "<table border=\"1\" class=\"dataframe\">\n",
              "  <thead>\n",
              "    <tr style=\"text-align: right;\">\n",
              "      <th></th>\n",
              "      <th>Order</th>\n",
              "      <th>PID</th>\n",
              "      <th>MS SubClass</th>\n",
              "      <th>MS Zoning</th>\n",
              "      <th>Lot Frontage</th>\n",
              "      <th>Lot Area</th>\n",
              "      <th>Street</th>\n",
              "      <th>Alley</th>\n",
              "      <th>Lot Shape</th>\n",
              "      <th>Land Contour</th>\n",
              "      <th>...</th>\n",
              "      <th>Pool Area</th>\n",
              "      <th>Pool QC</th>\n",
              "      <th>Fence</th>\n",
              "      <th>Misc Feature</th>\n",
              "      <th>Misc Val</th>\n",
              "      <th>Mo Sold</th>\n",
              "      <th>Yr Sold</th>\n",
              "      <th>Sale Type</th>\n",
              "      <th>Sale Condition</th>\n",
              "      <th>SalePrice</th>\n",
              "    </tr>\n",
              "  </thead>\n",
              "  <tbody>\n",
              "    <tr>\n",
              "      <th>0</th>\n",
              "      <td>1</td>\n",
              "      <td>526301100</td>\n",
              "      <td>20</td>\n",
              "      <td>RL</td>\n",
              "      <td>141.0</td>\n",
              "      <td>31770</td>\n",
              "      <td>Pave</td>\n",
              "      <td>NaN</td>\n",
              "      <td>IR1</td>\n",
              "      <td>Lvl</td>\n",
              "      <td>...</td>\n",
              "      <td>0</td>\n",
              "      <td>NaN</td>\n",
              "      <td>NaN</td>\n",
              "      <td>NaN</td>\n",
              "      <td>0</td>\n",
              "      <td>5</td>\n",
              "      <td>2010</td>\n",
              "      <td>WD</td>\n",
              "      <td>Normal</td>\n",
              "      <td>215000</td>\n",
              "    </tr>\n",
              "    <tr>\n",
              "      <th>1</th>\n",
              "      <td>2</td>\n",
              "      <td>526350040</td>\n",
              "      <td>20</td>\n",
              "      <td>RH</td>\n",
              "      <td>80.0</td>\n",
              "      <td>11622</td>\n",
              "      <td>Pave</td>\n",
              "      <td>NaN</td>\n",
              "      <td>Reg</td>\n",
              "      <td>Lvl</td>\n",
              "      <td>...</td>\n",
              "      <td>0</td>\n",
              "      <td>NaN</td>\n",
              "      <td>MnPrv</td>\n",
              "      <td>NaN</td>\n",
              "      <td>0</td>\n",
              "      <td>6</td>\n",
              "      <td>2010</td>\n",
              "      <td>WD</td>\n",
              "      <td>Normal</td>\n",
              "      <td>105000</td>\n",
              "    </tr>\n",
              "    <tr>\n",
              "      <th>2</th>\n",
              "      <td>3</td>\n",
              "      <td>526351010</td>\n",
              "      <td>20</td>\n",
              "      <td>RL</td>\n",
              "      <td>81.0</td>\n",
              "      <td>14267</td>\n",
              "      <td>Pave</td>\n",
              "      <td>NaN</td>\n",
              "      <td>IR1</td>\n",
              "      <td>Lvl</td>\n",
              "      <td>...</td>\n",
              "      <td>0</td>\n",
              "      <td>NaN</td>\n",
              "      <td>NaN</td>\n",
              "      <td>Gar2</td>\n",
              "      <td>12500</td>\n",
              "      <td>6</td>\n",
              "      <td>2010</td>\n",
              "      <td>WD</td>\n",
              "      <td>Normal</td>\n",
              "      <td>172000</td>\n",
              "    </tr>\n",
              "    <tr>\n",
              "      <th>3</th>\n",
              "      <td>4</td>\n",
              "      <td>526353030</td>\n",
              "      <td>20</td>\n",
              "      <td>RL</td>\n",
              "      <td>93.0</td>\n",
              "      <td>11160</td>\n",
              "      <td>Pave</td>\n",
              "      <td>NaN</td>\n",
              "      <td>Reg</td>\n",
              "      <td>Lvl</td>\n",
              "      <td>...</td>\n",
              "      <td>0</td>\n",
              "      <td>NaN</td>\n",
              "      <td>NaN</td>\n",
              "      <td>NaN</td>\n",
              "      <td>0</td>\n",
              "      <td>4</td>\n",
              "      <td>2010</td>\n",
              "      <td>WD</td>\n",
              "      <td>Normal</td>\n",
              "      <td>244000</td>\n",
              "    </tr>\n",
              "    <tr>\n",
              "      <th>4</th>\n",
              "      <td>5</td>\n",
              "      <td>527105010</td>\n",
              "      <td>60</td>\n",
              "      <td>RL</td>\n",
              "      <td>74.0</td>\n",
              "      <td>13830</td>\n",
              "      <td>Pave</td>\n",
              "      <td>NaN</td>\n",
              "      <td>IR1</td>\n",
              "      <td>Lvl</td>\n",
              "      <td>...</td>\n",
              "      <td>0</td>\n",
              "      <td>NaN</td>\n",
              "      <td>MnPrv</td>\n",
              "      <td>NaN</td>\n",
              "      <td>0</td>\n",
              "      <td>3</td>\n",
              "      <td>2010</td>\n",
              "      <td>WD</td>\n",
              "      <td>Normal</td>\n",
              "      <td>189900</td>\n",
              "    </tr>\n",
              "  </tbody>\n",
              "</table>\n",
              "<p>5 rows × 82 columns</p>\n",
              "</div>\n",
              "      <button class=\"colab-df-convert\" onclick=\"convertToInteractive('df-34a05240-64f5-4e24-a0df-df01b1e6d1d3')\"\n",
              "              title=\"Convert this dataframe to an interactive table.\"\n",
              "              style=\"display:none;\">\n",
              "        \n",
              "  <svg xmlns=\"http://www.w3.org/2000/svg\" height=\"24px\"viewBox=\"0 0 24 24\"\n",
              "       width=\"24px\">\n",
              "    <path d=\"M0 0h24v24H0V0z\" fill=\"none\"/>\n",
              "    <path d=\"M18.56 5.44l.94 2.06.94-2.06 2.06-.94-2.06-.94-.94-2.06-.94 2.06-2.06.94zm-11 1L8.5 8.5l.94-2.06 2.06-.94-2.06-.94L8.5 2.5l-.94 2.06-2.06.94zm10 10l.94 2.06.94-2.06 2.06-.94-2.06-.94-.94-2.06-.94 2.06-2.06.94z\"/><path d=\"M17.41 7.96l-1.37-1.37c-.4-.4-.92-.59-1.43-.59-.52 0-1.04.2-1.43.59L10.3 9.45l-7.72 7.72c-.78.78-.78 2.05 0 2.83L4 21.41c.39.39.9.59 1.41.59.51 0 1.02-.2 1.41-.59l7.78-7.78 2.81-2.81c.8-.78.8-2.07 0-2.86zM5.41 20L4 18.59l7.72-7.72 1.47 1.35L5.41 20z\"/>\n",
              "  </svg>\n",
              "      </button>\n",
              "      \n",
              "  <style>\n",
              "    .colab-df-container {\n",
              "      display:flex;\n",
              "      flex-wrap:wrap;\n",
              "      gap: 12px;\n",
              "    }\n",
              "\n",
              "    .colab-df-convert {\n",
              "      background-color: #E8F0FE;\n",
              "      border: none;\n",
              "      border-radius: 50%;\n",
              "      cursor: pointer;\n",
              "      display: none;\n",
              "      fill: #1967D2;\n",
              "      height: 32px;\n",
              "      padding: 0 0 0 0;\n",
              "      width: 32px;\n",
              "    }\n",
              "\n",
              "    .colab-df-convert:hover {\n",
              "      background-color: #E2EBFA;\n",
              "      box-shadow: 0px 1px 2px rgba(60, 64, 67, 0.3), 0px 1px 3px 1px rgba(60, 64, 67, 0.15);\n",
              "      fill: #174EA6;\n",
              "    }\n",
              "\n",
              "    [theme=dark] .colab-df-convert {\n",
              "      background-color: #3B4455;\n",
              "      fill: #D2E3FC;\n",
              "    }\n",
              "\n",
              "    [theme=dark] .colab-df-convert:hover {\n",
              "      background-color: #434B5C;\n",
              "      box-shadow: 0px 1px 3px 1px rgba(0, 0, 0, 0.15);\n",
              "      filter: drop-shadow(0px 1px 2px rgba(0, 0, 0, 0.3));\n",
              "      fill: #FFFFFF;\n",
              "    }\n",
              "  </style>\n",
              "\n",
              "      <script>\n",
              "        const buttonEl =\n",
              "          document.querySelector('#df-34a05240-64f5-4e24-a0df-df01b1e6d1d3 button.colab-df-convert');\n",
              "        buttonEl.style.display =\n",
              "          google.colab.kernel.accessAllowed ? 'block' : 'none';\n",
              "\n",
              "        async function convertToInteractive(key) {\n",
              "          const element = document.querySelector('#df-34a05240-64f5-4e24-a0df-df01b1e6d1d3');\n",
              "          const dataTable =\n",
              "            await google.colab.kernel.invokeFunction('convertToInteractive',\n",
              "                                                     [key], {});\n",
              "          if (!dataTable) return;\n",
              "\n",
              "          const docLinkHtml = 'Like what you see? Visit the ' +\n",
              "            '<a target=\"_blank\" href=https://colab.research.google.com/notebooks/data_table.ipynb>data table notebook</a>'\n",
              "            + ' to learn more about interactive tables.';\n",
              "          element.innerHTML = '';\n",
              "          dataTable['output_type'] = 'display_data';\n",
              "          await google.colab.output.renderOutput(dataTable, element);\n",
              "          const docLink = document.createElement('div');\n",
              "          docLink.innerHTML = docLinkHtml;\n",
              "          element.appendChild(docLink);\n",
              "        }\n",
              "      </script>\n",
              "    </div>\n",
              "  </div>\n",
              "  "
            ]
          },
          "metadata": {},
          "execution_count": 4
        }
      ]
    },
    {
      "cell_type": "markdown",
      "source": [
        "## 5. We're going to first do some basic data cleaning on this data:\n",
        "\n",
        "- Converting categorical variables to dummies\n",
        "  - Filter by String Categoricals\n",
        "  - List categorical fields\n",
        "  - Show fields\n",
        "  - Convert to dummies"
      ],
      "metadata": {
        "id": "Pv-PLimI7gkk"
      }
    },
    {
      "cell_type": "code",
      "source": [
        "one_hot_encode_cols = data1.dtypes[data1.dtypes == object ] #FIlter by string categorical"
      ],
      "metadata": {
        "id": "pbaNGr0c7o3A"
      },
      "execution_count": 14,
      "outputs": []
    },
    {
      "cell_type": "code",
      "source": [
        "one_hot_encode_cols = one_hot_encode_cols.index.tolist()\n",
        "data1[one_hot_encode_cols].head().T"
      ],
      "metadata": {
        "colab": {
          "base_uri": "https://localhost:8080/",
          "height": 1000
        },
        "id": "Qlwdt5rw8ijq",
        "outputId": "14adb7a7-8375-468c-cddf-329b89407372"
      },
      "execution_count": 15,
      "outputs": [
        {
          "output_type": "execute_result",
          "data": {
            "text/plain": [
              "                      0        1        2        3        4\n",
              "MS Zoning            RL       RH       RL       RL       RL\n",
              "Street             Pave     Pave     Pave     Pave     Pave\n",
              "Alley               NaN      NaN      NaN      NaN      NaN\n",
              "Lot Shape           IR1      Reg      IR1      Reg      IR1\n",
              "Land Contour        Lvl      Lvl      Lvl      Lvl      Lvl\n",
              "Utilities        AllPub   AllPub   AllPub   AllPub   AllPub\n",
              "Lot Config       Corner   Inside   Corner   Corner   Inside\n",
              "Land Slope          Gtl      Gtl      Gtl      Gtl      Gtl\n",
              "Neighborhood      NAmes    NAmes    NAmes    NAmes  Gilbert\n",
              "Condition 1        Norm    Feedr     Norm     Norm     Norm\n",
              "Condition 2        Norm     Norm     Norm     Norm     Norm\n",
              "Bldg Type          1Fam     1Fam     1Fam     1Fam     1Fam\n",
              "House Style      1Story   1Story   1Story   1Story   2Story\n",
              "Roof Style          Hip    Gable      Hip      Hip    Gable\n",
              "Roof Matl       CompShg  CompShg  CompShg  CompShg  CompShg\n",
              "Exterior 1st    BrkFace  VinylSd  Wd Sdng  BrkFace  VinylSd\n",
              "Exterior 2nd    Plywood  VinylSd  Wd Sdng  BrkFace  VinylSd\n",
              "Mas Vnr Type      Stone     None  BrkFace     None     None\n",
              "Exter Qual           TA       TA       TA       Gd       TA\n",
              "Exter Cond           TA       TA       TA       TA       TA\n",
              "Foundation       CBlock   CBlock   CBlock   CBlock    PConc\n",
              "Bsmt Qual            TA       TA       TA       TA       Gd\n",
              "Bsmt Cond            Gd       TA       TA       TA       TA\n",
              "Bsmt Exposure        Gd       No       No       No       No\n",
              "BsmtFin Type 1      BLQ      Rec      ALQ      ALQ      GLQ\n",
              "BsmtFin Type 2      Unf      LwQ      Unf      Unf      Unf\n",
              "Heating            GasA     GasA     GasA     GasA     GasA\n",
              "Heating QC           Fa       TA       TA       Ex       Gd\n",
              "Central Air           Y        Y        Y        Y        Y\n",
              "Electrical        SBrkr    SBrkr    SBrkr    SBrkr    SBrkr\n",
              "Kitchen Qual         TA       TA       Gd       Ex       TA\n",
              "Functional          Typ      Typ      Typ      Typ      Typ\n",
              "Fireplace Qu         Gd      NaN      NaN       TA       TA\n",
              "Garage Type      Attchd   Attchd   Attchd   Attchd   Attchd\n",
              "Garage Finish       Fin      Unf      Unf      Fin      Fin\n",
              "Garage Qual          TA       TA       TA       TA       TA\n",
              "Garage Cond          TA       TA       TA       TA       TA\n",
              "Paved Drive           P        Y        Y        Y        Y\n",
              "Pool QC             NaN      NaN      NaN      NaN      NaN\n",
              "Fence               NaN    MnPrv      NaN      NaN    MnPrv\n",
              "Misc Feature        NaN      NaN     Gar2      NaN      NaN\n",
              "Sale Type           WD       WD       WD       WD       WD \n",
              "Sale Condition   Normal   Normal   Normal   Normal   Normal"
            ],
            "text/html": [
              "\n",
              "  <div id=\"df-c6f9a14b-0117-487d-9e26-866677f59327\">\n",
              "    <div class=\"colab-df-container\">\n",
              "      <div>\n",
              "<style scoped>\n",
              "    .dataframe tbody tr th:only-of-type {\n",
              "        vertical-align: middle;\n",
              "    }\n",
              "\n",
              "    .dataframe tbody tr th {\n",
              "        vertical-align: top;\n",
              "    }\n",
              "\n",
              "    .dataframe thead th {\n",
              "        text-align: right;\n",
              "    }\n",
              "</style>\n",
              "<table border=\"1\" class=\"dataframe\">\n",
              "  <thead>\n",
              "    <tr style=\"text-align: right;\">\n",
              "      <th></th>\n",
              "      <th>0</th>\n",
              "      <th>1</th>\n",
              "      <th>2</th>\n",
              "      <th>3</th>\n",
              "      <th>4</th>\n",
              "    </tr>\n",
              "  </thead>\n",
              "  <tbody>\n",
              "    <tr>\n",
              "      <th>MS Zoning</th>\n",
              "      <td>RL</td>\n",
              "      <td>RH</td>\n",
              "      <td>RL</td>\n",
              "      <td>RL</td>\n",
              "      <td>RL</td>\n",
              "    </tr>\n",
              "    <tr>\n",
              "      <th>Street</th>\n",
              "      <td>Pave</td>\n",
              "      <td>Pave</td>\n",
              "      <td>Pave</td>\n",
              "      <td>Pave</td>\n",
              "      <td>Pave</td>\n",
              "    </tr>\n",
              "    <tr>\n",
              "      <th>Alley</th>\n",
              "      <td>NaN</td>\n",
              "      <td>NaN</td>\n",
              "      <td>NaN</td>\n",
              "      <td>NaN</td>\n",
              "      <td>NaN</td>\n",
              "    </tr>\n",
              "    <tr>\n",
              "      <th>Lot Shape</th>\n",
              "      <td>IR1</td>\n",
              "      <td>Reg</td>\n",
              "      <td>IR1</td>\n",
              "      <td>Reg</td>\n",
              "      <td>IR1</td>\n",
              "    </tr>\n",
              "    <tr>\n",
              "      <th>Land Contour</th>\n",
              "      <td>Lvl</td>\n",
              "      <td>Lvl</td>\n",
              "      <td>Lvl</td>\n",
              "      <td>Lvl</td>\n",
              "      <td>Lvl</td>\n",
              "    </tr>\n",
              "    <tr>\n",
              "      <th>Utilities</th>\n",
              "      <td>AllPub</td>\n",
              "      <td>AllPub</td>\n",
              "      <td>AllPub</td>\n",
              "      <td>AllPub</td>\n",
              "      <td>AllPub</td>\n",
              "    </tr>\n",
              "    <tr>\n",
              "      <th>Lot Config</th>\n",
              "      <td>Corner</td>\n",
              "      <td>Inside</td>\n",
              "      <td>Corner</td>\n",
              "      <td>Corner</td>\n",
              "      <td>Inside</td>\n",
              "    </tr>\n",
              "    <tr>\n",
              "      <th>Land Slope</th>\n",
              "      <td>Gtl</td>\n",
              "      <td>Gtl</td>\n",
              "      <td>Gtl</td>\n",
              "      <td>Gtl</td>\n",
              "      <td>Gtl</td>\n",
              "    </tr>\n",
              "    <tr>\n",
              "      <th>Neighborhood</th>\n",
              "      <td>NAmes</td>\n",
              "      <td>NAmes</td>\n",
              "      <td>NAmes</td>\n",
              "      <td>NAmes</td>\n",
              "      <td>Gilbert</td>\n",
              "    </tr>\n",
              "    <tr>\n",
              "      <th>Condition 1</th>\n",
              "      <td>Norm</td>\n",
              "      <td>Feedr</td>\n",
              "      <td>Norm</td>\n",
              "      <td>Norm</td>\n",
              "      <td>Norm</td>\n",
              "    </tr>\n",
              "    <tr>\n",
              "      <th>Condition 2</th>\n",
              "      <td>Norm</td>\n",
              "      <td>Norm</td>\n",
              "      <td>Norm</td>\n",
              "      <td>Norm</td>\n",
              "      <td>Norm</td>\n",
              "    </tr>\n",
              "    <tr>\n",
              "      <th>Bldg Type</th>\n",
              "      <td>1Fam</td>\n",
              "      <td>1Fam</td>\n",
              "      <td>1Fam</td>\n",
              "      <td>1Fam</td>\n",
              "      <td>1Fam</td>\n",
              "    </tr>\n",
              "    <tr>\n",
              "      <th>House Style</th>\n",
              "      <td>1Story</td>\n",
              "      <td>1Story</td>\n",
              "      <td>1Story</td>\n",
              "      <td>1Story</td>\n",
              "      <td>2Story</td>\n",
              "    </tr>\n",
              "    <tr>\n",
              "      <th>Roof Style</th>\n",
              "      <td>Hip</td>\n",
              "      <td>Gable</td>\n",
              "      <td>Hip</td>\n",
              "      <td>Hip</td>\n",
              "      <td>Gable</td>\n",
              "    </tr>\n",
              "    <tr>\n",
              "      <th>Roof Matl</th>\n",
              "      <td>CompShg</td>\n",
              "      <td>CompShg</td>\n",
              "      <td>CompShg</td>\n",
              "      <td>CompShg</td>\n",
              "      <td>CompShg</td>\n",
              "    </tr>\n",
              "    <tr>\n",
              "      <th>Exterior 1st</th>\n",
              "      <td>BrkFace</td>\n",
              "      <td>VinylSd</td>\n",
              "      <td>Wd Sdng</td>\n",
              "      <td>BrkFace</td>\n",
              "      <td>VinylSd</td>\n",
              "    </tr>\n",
              "    <tr>\n",
              "      <th>Exterior 2nd</th>\n",
              "      <td>Plywood</td>\n",
              "      <td>VinylSd</td>\n",
              "      <td>Wd Sdng</td>\n",
              "      <td>BrkFace</td>\n",
              "      <td>VinylSd</td>\n",
              "    </tr>\n",
              "    <tr>\n",
              "      <th>Mas Vnr Type</th>\n",
              "      <td>Stone</td>\n",
              "      <td>None</td>\n",
              "      <td>BrkFace</td>\n",
              "      <td>None</td>\n",
              "      <td>None</td>\n",
              "    </tr>\n",
              "    <tr>\n",
              "      <th>Exter Qual</th>\n",
              "      <td>TA</td>\n",
              "      <td>TA</td>\n",
              "      <td>TA</td>\n",
              "      <td>Gd</td>\n",
              "      <td>TA</td>\n",
              "    </tr>\n",
              "    <tr>\n",
              "      <th>Exter Cond</th>\n",
              "      <td>TA</td>\n",
              "      <td>TA</td>\n",
              "      <td>TA</td>\n",
              "      <td>TA</td>\n",
              "      <td>TA</td>\n",
              "    </tr>\n",
              "    <tr>\n",
              "      <th>Foundation</th>\n",
              "      <td>CBlock</td>\n",
              "      <td>CBlock</td>\n",
              "      <td>CBlock</td>\n",
              "      <td>CBlock</td>\n",
              "      <td>PConc</td>\n",
              "    </tr>\n",
              "    <tr>\n",
              "      <th>Bsmt Qual</th>\n",
              "      <td>TA</td>\n",
              "      <td>TA</td>\n",
              "      <td>TA</td>\n",
              "      <td>TA</td>\n",
              "      <td>Gd</td>\n",
              "    </tr>\n",
              "    <tr>\n",
              "      <th>Bsmt Cond</th>\n",
              "      <td>Gd</td>\n",
              "      <td>TA</td>\n",
              "      <td>TA</td>\n",
              "      <td>TA</td>\n",
              "      <td>TA</td>\n",
              "    </tr>\n",
              "    <tr>\n",
              "      <th>Bsmt Exposure</th>\n",
              "      <td>Gd</td>\n",
              "      <td>No</td>\n",
              "      <td>No</td>\n",
              "      <td>No</td>\n",
              "      <td>No</td>\n",
              "    </tr>\n",
              "    <tr>\n",
              "      <th>BsmtFin Type 1</th>\n",
              "      <td>BLQ</td>\n",
              "      <td>Rec</td>\n",
              "      <td>ALQ</td>\n",
              "      <td>ALQ</td>\n",
              "      <td>GLQ</td>\n",
              "    </tr>\n",
              "    <tr>\n",
              "      <th>BsmtFin Type 2</th>\n",
              "      <td>Unf</td>\n",
              "      <td>LwQ</td>\n",
              "      <td>Unf</td>\n",
              "      <td>Unf</td>\n",
              "      <td>Unf</td>\n",
              "    </tr>\n",
              "    <tr>\n",
              "      <th>Heating</th>\n",
              "      <td>GasA</td>\n",
              "      <td>GasA</td>\n",
              "      <td>GasA</td>\n",
              "      <td>GasA</td>\n",
              "      <td>GasA</td>\n",
              "    </tr>\n",
              "    <tr>\n",
              "      <th>Heating QC</th>\n",
              "      <td>Fa</td>\n",
              "      <td>TA</td>\n",
              "      <td>TA</td>\n",
              "      <td>Ex</td>\n",
              "      <td>Gd</td>\n",
              "    </tr>\n",
              "    <tr>\n",
              "      <th>Central Air</th>\n",
              "      <td>Y</td>\n",
              "      <td>Y</td>\n",
              "      <td>Y</td>\n",
              "      <td>Y</td>\n",
              "      <td>Y</td>\n",
              "    </tr>\n",
              "    <tr>\n",
              "      <th>Electrical</th>\n",
              "      <td>SBrkr</td>\n",
              "      <td>SBrkr</td>\n",
              "      <td>SBrkr</td>\n",
              "      <td>SBrkr</td>\n",
              "      <td>SBrkr</td>\n",
              "    </tr>\n",
              "    <tr>\n",
              "      <th>Kitchen Qual</th>\n",
              "      <td>TA</td>\n",
              "      <td>TA</td>\n",
              "      <td>Gd</td>\n",
              "      <td>Ex</td>\n",
              "      <td>TA</td>\n",
              "    </tr>\n",
              "    <tr>\n",
              "      <th>Functional</th>\n",
              "      <td>Typ</td>\n",
              "      <td>Typ</td>\n",
              "      <td>Typ</td>\n",
              "      <td>Typ</td>\n",
              "      <td>Typ</td>\n",
              "    </tr>\n",
              "    <tr>\n",
              "      <th>Fireplace Qu</th>\n",
              "      <td>Gd</td>\n",
              "      <td>NaN</td>\n",
              "      <td>NaN</td>\n",
              "      <td>TA</td>\n",
              "      <td>TA</td>\n",
              "    </tr>\n",
              "    <tr>\n",
              "      <th>Garage Type</th>\n",
              "      <td>Attchd</td>\n",
              "      <td>Attchd</td>\n",
              "      <td>Attchd</td>\n",
              "      <td>Attchd</td>\n",
              "      <td>Attchd</td>\n",
              "    </tr>\n",
              "    <tr>\n",
              "      <th>Garage Finish</th>\n",
              "      <td>Fin</td>\n",
              "      <td>Unf</td>\n",
              "      <td>Unf</td>\n",
              "      <td>Fin</td>\n",
              "      <td>Fin</td>\n",
              "    </tr>\n",
              "    <tr>\n",
              "      <th>Garage Qual</th>\n",
              "      <td>TA</td>\n",
              "      <td>TA</td>\n",
              "      <td>TA</td>\n",
              "      <td>TA</td>\n",
              "      <td>TA</td>\n",
              "    </tr>\n",
              "    <tr>\n",
              "      <th>Garage Cond</th>\n",
              "      <td>TA</td>\n",
              "      <td>TA</td>\n",
              "      <td>TA</td>\n",
              "      <td>TA</td>\n",
              "      <td>TA</td>\n",
              "    </tr>\n",
              "    <tr>\n",
              "      <th>Paved Drive</th>\n",
              "      <td>P</td>\n",
              "      <td>Y</td>\n",
              "      <td>Y</td>\n",
              "      <td>Y</td>\n",
              "      <td>Y</td>\n",
              "    </tr>\n",
              "    <tr>\n",
              "      <th>Pool QC</th>\n",
              "      <td>NaN</td>\n",
              "      <td>NaN</td>\n",
              "      <td>NaN</td>\n",
              "      <td>NaN</td>\n",
              "      <td>NaN</td>\n",
              "    </tr>\n",
              "    <tr>\n",
              "      <th>Fence</th>\n",
              "      <td>NaN</td>\n",
              "      <td>MnPrv</td>\n",
              "      <td>NaN</td>\n",
              "      <td>NaN</td>\n",
              "      <td>MnPrv</td>\n",
              "    </tr>\n",
              "    <tr>\n",
              "      <th>Misc Feature</th>\n",
              "      <td>NaN</td>\n",
              "      <td>NaN</td>\n",
              "      <td>Gar2</td>\n",
              "      <td>NaN</td>\n",
              "      <td>NaN</td>\n",
              "    </tr>\n",
              "    <tr>\n",
              "      <th>Sale Type</th>\n",
              "      <td>WD</td>\n",
              "      <td>WD</td>\n",
              "      <td>WD</td>\n",
              "      <td>WD</td>\n",
              "      <td>WD</td>\n",
              "    </tr>\n",
              "    <tr>\n",
              "      <th>Sale Condition</th>\n",
              "      <td>Normal</td>\n",
              "      <td>Normal</td>\n",
              "      <td>Normal</td>\n",
              "      <td>Normal</td>\n",
              "      <td>Normal</td>\n",
              "    </tr>\n",
              "  </tbody>\n",
              "</table>\n",
              "</div>\n",
              "      <button class=\"colab-df-convert\" onclick=\"convertToInteractive('df-c6f9a14b-0117-487d-9e26-866677f59327')\"\n",
              "              title=\"Convert this dataframe to an interactive table.\"\n",
              "              style=\"display:none;\">\n",
              "        \n",
              "  <svg xmlns=\"http://www.w3.org/2000/svg\" height=\"24px\"viewBox=\"0 0 24 24\"\n",
              "       width=\"24px\">\n",
              "    <path d=\"M0 0h24v24H0V0z\" fill=\"none\"/>\n",
              "    <path d=\"M18.56 5.44l.94 2.06.94-2.06 2.06-.94-2.06-.94-.94-2.06-.94 2.06-2.06.94zm-11 1L8.5 8.5l.94-2.06 2.06-.94-2.06-.94L8.5 2.5l-.94 2.06-2.06.94zm10 10l.94 2.06.94-2.06 2.06-.94-2.06-.94-.94-2.06-.94 2.06-2.06.94z\"/><path d=\"M17.41 7.96l-1.37-1.37c-.4-.4-.92-.59-1.43-.59-.52 0-1.04.2-1.43.59L10.3 9.45l-7.72 7.72c-.78.78-.78 2.05 0 2.83L4 21.41c.39.39.9.59 1.41.59.51 0 1.02-.2 1.41-.59l7.78-7.78 2.81-2.81c.8-.78.8-2.07 0-2.86zM5.41 20L4 18.59l7.72-7.72 1.47 1.35L5.41 20z\"/>\n",
              "  </svg>\n",
              "      </button>\n",
              "      \n",
              "  <style>\n",
              "    .colab-df-container {\n",
              "      display:flex;\n",
              "      flex-wrap:wrap;\n",
              "      gap: 12px;\n",
              "    }\n",
              "\n",
              "    .colab-df-convert {\n",
              "      background-color: #E8F0FE;\n",
              "      border: none;\n",
              "      border-radius: 50%;\n",
              "      cursor: pointer;\n",
              "      display: none;\n",
              "      fill: #1967D2;\n",
              "      height: 32px;\n",
              "      padding: 0 0 0 0;\n",
              "      width: 32px;\n",
              "    }\n",
              "\n",
              "    .colab-df-convert:hover {\n",
              "      background-color: #E2EBFA;\n",
              "      box-shadow: 0px 1px 2px rgba(60, 64, 67, 0.3), 0px 1px 3px 1px rgba(60, 64, 67, 0.15);\n",
              "      fill: #174EA6;\n",
              "    }\n",
              "\n",
              "    [theme=dark] .colab-df-convert {\n",
              "      background-color: #3B4455;\n",
              "      fill: #D2E3FC;\n",
              "    }\n",
              "\n",
              "    [theme=dark] .colab-df-convert:hover {\n",
              "      background-color: #434B5C;\n",
              "      box-shadow: 0px 1px 3px 1px rgba(0, 0, 0, 0.15);\n",
              "      filter: drop-shadow(0px 1px 2px rgba(0, 0, 0, 0.3));\n",
              "      fill: #FFFFFF;\n",
              "    }\n",
              "  </style>\n",
              "\n",
              "      <script>\n",
              "        const buttonEl =\n",
              "          document.querySelector('#df-c6f9a14b-0117-487d-9e26-866677f59327 button.colab-df-convert');\n",
              "        buttonEl.style.display =\n",
              "          google.colab.kernel.accessAllowed ? 'block' : 'none';\n",
              "\n",
              "        async function convertToInteractive(key) {\n",
              "          const element = document.querySelector('#df-c6f9a14b-0117-487d-9e26-866677f59327');\n",
              "          const dataTable =\n",
              "            await google.colab.kernel.invokeFunction('convertToInteractive',\n",
              "                                                     [key], {});\n",
              "          if (!dataTable) return;\n",
              "\n",
              "          const docLinkHtml = 'Like what you see? Visit the ' +\n",
              "            '<a target=\"_blank\" href=https://colab.research.google.com/notebooks/data_table.ipynb>data table notebook</a>'\n",
              "            + ' to learn more about interactive tables.';\n",
              "          element.innerHTML = '';\n",
              "          dataTable['output_type'] = 'display_data';\n",
              "          await google.colab.output.renderOutput(dataTable, element);\n",
              "          const docLink = document.createElement('div');\n",
              "          docLink.innerHTML = docLinkHtml;\n",
              "          element.appendChild(docLink);\n",
              "        }\n",
              "      </script>\n",
              "    </div>\n",
              "  </div>\n",
              "  "
            ]
          },
          "metadata": {},
          "execution_count": 15
        }
      ]
    },
    {
      "cell_type": "code",
      "source": [],
      "metadata": {
        "id": "HZLJ6XiQ8ir_"
      },
      "execution_count": null,
      "outputs": []
    },
    {
      "cell_type": "code",
      "source": [],
      "metadata": {
        "id": "TrheqoeZ8iy-"
      },
      "execution_count": null,
      "outputs": []
    },
    {
      "cell_type": "markdown",
      "source": [
        "- Making skew variables symmetric\n",
        "  - Create list of float columns to check for skewing\n",
        "  - define a limit above which we will log tranform\n",
        "  - Show skewed columns\n",
        "  - Create before and after histogram for 'BsmtFin SF 1'"
      ],
      "metadata": {
        "id": "yPymcKbd8Mry"
      }
    },
    {
      "cell_type": "code",
      "source": [],
      "metadata": {
        "id": "wITKK_-z9bTB"
      },
      "execution_count": null,
      "outputs": []
    },
    {
      "cell_type": "code",
      "source": [],
      "metadata": {
        "id": "Ox9UUTnY9y8D"
      },
      "execution_count": null,
      "outputs": []
    },
    {
      "cell_type": "code",
      "source": [],
      "metadata": {
        "id": "B3p42gYJ9y-9"
      },
      "execution_count": null,
      "outputs": []
    },
    {
      "cell_type": "code",
      "source": [],
      "metadata": {
        "id": "sF0o7Mnv9zCY"
      },
      "execution_count": null,
      "outputs": []
    },
    {
      "cell_type": "code",
      "source": [],
      "metadata": {
        "id": "d9U5g9lv9zH_"
      },
      "execution_count": null,
      "outputs": []
    },
    {
      "cell_type": "markdown",
      "source": [
        "## 6. Perform skew tranformation with a for loop for all except 'SalesPrice'"
      ],
      "metadata": {
        "id": "3x4oekuR9zzu"
      }
    },
    {
      "cell_type": "code",
      "source": [],
      "metadata": {
        "id": "HmFFXyj4-hEy"
      },
      "execution_count": null,
      "outputs": []
    },
    {
      "cell_type": "markdown",
      "source": [
        "## 7. Show this partial dataset and fill with Zero any incomplete -> 'Lot Area', 'Overall Qual', 'Overall Cond','Year Built', 'Year Remod/Add', 'Gr Liv Area', 'Full Bath', 'Bedroom AbvGr', 'Fireplaces',         'Garage Cars','SalePrice'"
      ],
      "metadata": {
        "id": "pWFjDoqU-7v1"
      }
    },
    {
      "cell_type": "code",
      "source": [],
      "metadata": {
        "id": "4CjyLLrw_KaB"
      },
      "execution_count": null,
      "outputs": []
    },
    {
      "cell_type": "markdown",
      "source": [
        "##8. Do Pairplot of features"
      ],
      "metadata": {
        "id": "OLQnTskg_SvB"
      }
    },
    {
      "cell_type": "code",
      "source": [],
      "metadata": {
        "id": "KFWczxHi_tix"
      },
      "execution_count": null,
      "outputs": []
    },
    {
      "cell_type": "markdown",
      "source": [
        "### 9. Define X and y\n",
        "using ->\n",
        "'Lot Area', 'Overall Qual', 'Overall Cond','Year Built', 'Year Remod/Add', 'Gr Liv Area', 'Full Bath', 'Bedroom AbvGr', 'Fireplaces', \n",
        "      'Garage Cars'"
      ],
      "metadata": {
        "id": "iIM1CwE4_4L-"
      }
    },
    {
      "cell_type": "code",
      "source": [],
      "metadata": {
        "id": "7HbCHBf0_8Hl"
      },
      "execution_count": null,
      "outputs": []
    },
    {
      "cell_type": "markdown",
      "source": [
        "# Basic feature engineering: adding polynomial and interaction terms"
      ],
      "metadata": {
        "id": "-hIjExEUAIzM"
      }
    },
    {
      "cell_type": "markdown",
      "source": [
        "## Polynomial **Features**"
      ],
      "metadata": {
        "id": "dHdWVARPAVNU"
      }
    },
    {
      "cell_type": "markdown",
      "source": [
        "### 10. Create X2 a copy of X with 'OQ2' and 'GLA2' as pow 2"
      ],
      "metadata": {
        "id": "ndVzGS6RAk4c"
      }
    },
    {
      "cell_type": "code",
      "source": [],
      "metadata": {
        "id": "ljO8KqdUATtJ"
      },
      "execution_count": null,
      "outputs": []
    },
    {
      "cell_type": "markdown",
      "source": [
        "### 11. Create X3, a copy of X2 with a multiplicative interaction 'Overall Qual' and 'Year Built'"
      ],
      "metadata": {
        "id": "ne52yuIDBF7U"
      }
    },
    {
      "cell_type": "code",
      "source": [],
      "metadata": {
        "id": "a9fv6kKDBay1"
      },
      "execution_count": null,
      "outputs": []
    },
    {
      "cell_type": "markdown",
      "source": [
        "### 12. On X3 create division interaction 'Overall Qual' and 'Lot Area'"
      ],
      "metadata": {
        "id": "0o1RtzZpBdFk"
      }
    },
    {
      "cell_type": "code",
      "source": [],
      "metadata": {
        "id": "NqhcaSCxBp9G"
      },
      "execution_count": null,
      "outputs": []
    },
    {
      "cell_type": "markdown",
      "source": [
        "### 13. Count 'House Style'"
      ],
      "metadata": {
        "id": "3ixemyKXCFO1"
      }
    },
    {
      "cell_type": "code",
      "source": [],
      "metadata": {
        "id": "ePBLTIlFCHJ9"
      },
      "execution_count": null,
      "outputs": []
    },
    {
      "cell_type": "markdown",
      "source": [
        "### 14. Do a quick view of how dummy features actually appear for House Style"
      ],
      "metadata": {
        "id": "8s2ByUSZCH7N"
      }
    },
    {
      "cell_type": "code",
      "source": [],
      "metadata": {
        "id": "viGBGl5kCWl-"
      },
      "execution_count": null,
      "outputs": []
    },
    {
      "cell_type": "markdown",
      "source": [
        "## 15. Create a list of Neighborhoods with less than 8\n",
        "- Counst all values\n",
        "- Create X4, a copy of X3 where the replace is made"
      ],
      "metadata": {
        "id": "-yVxG7leCtru"
      }
    },
    {
      "cell_type": "code",
      "source": [],
      "metadata": {
        "id": "tMPvBVhDDUKD"
      },
      "execution_count": null,
      "outputs": []
    },
    {
      "cell_type": "markdown",
      "source": [
        "## Getting to fancier features add deviation feature for 'House Style' and 'Year Built', and for 'Overall Qual' and 'Neighborhood'"
      ],
      "metadata": {
        "id": "htg0zHIBDVjO"
      }
    },
    {
      "cell_type": "code",
      "source": [],
      "metadata": {
        "id": "8SAn58xtDYf-"
      },
      "execution_count": null,
      "outputs": []
    },
    {
      "cell_type": "markdown",
      "source": [
        "# Polynomial Features in Scikit-Learn\n"
      ],
      "metadata": {
        "id": "DOfKRph6Javb"
      }
    },
    {
      "cell_type": "markdown",
      "source": [
        "Import the library and Instantiate"
      ],
      "metadata": {
        "id": "L01Md0HzJl40"
      }
    },
    {
      "cell_type": "code",
      "source": [],
      "metadata": {
        "id": "TIoJEUlIJhkM"
      },
      "execution_count": null,
      "outputs": []
    }
  ]
}