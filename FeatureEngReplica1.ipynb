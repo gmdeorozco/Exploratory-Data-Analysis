{
  "nbformat": 4,
  "nbformat_minor": 0,
  "metadata": {
    "colab": {
      "provenance": [],
      "authorship_tag": "ABX9TyOa4K6//435mELjLy8Jx7CL",
      "include_colab_link": true
    },
    "kernelspec": {
      "name": "python3",
      "display_name": "Python 3"
    },
    "language_info": {
      "name": "python"
    }
  },
  "cells": [
    {
      "cell_type": "markdown",
      "metadata": {
        "id": "view-in-github",
        "colab_type": "text"
      },
      "source": [
        "<a href=\"https://colab.research.google.com/github/gmdeorozco/Exploratory-Data-Analysis/blob/main/FeatureEngReplica1.ipynb\" target=\"_parent\"><img src=\"https://colab.research.google.com/assets/colab-badge.svg\" alt=\"Open In Colab\"/></a>"
      ]
    },
    {
      "cell_type": "markdown",
      "source": [
        "### 1. Import Packages"
      ],
      "metadata": {
        "id": "FJ0mu-Aw3-x-"
      }
    },
    {
      "cell_type": "code",
      "execution_count": 1,
      "metadata": {
        "id": "v6nnRqx23TFv"
      },
      "outputs": [],
      "source": [
        "import pandas as pd\n",
        "import numpy as np\n"
      ]
    },
    {
      "cell_type": "markdown",
      "source": [
        "## 2. Load Data \n",
        "sep = \\t"
      ],
      "metadata": {
        "id": "tcu3VjS94EHi"
      }
    },
    {
      "cell_type": "code",
      "source": [
        "URL = 'https://cf-courses-data.s3.us.cloud-object-storage.appdomain.cloud/IBM-ML0232EN-SkillsNetwork/asset/Ames_Housing_Data.tsv'\n",
        "data = pd.read_csv(URL, sep='\\t')"
      ],
      "metadata": {
        "id": "ykKlnFV-4HAO"
      },
      "execution_count": 2,
      "outputs": []
    },
    {
      "cell_type": "markdown",
      "source": [
        "## 3. Print the number of rows and columns in the Data"
      ],
      "metadata": {
        "id": "9_mLana06_f_"
      }
    },
    {
      "cell_type": "code",
      "source": [],
      "metadata": {
        "id": "P5OBKKx54f7w"
      },
      "execution_count": null,
      "outputs": []
    },
    {
      "cell_type": "markdown",
      "source": [
        "## 4. Create a dataset including Gr Liv Area lower or equal to 4000"
      ],
      "metadata": {
        "id": "MZl2sdMi7MWC"
      }
    },
    {
      "cell_type": "code",
      "source": [],
      "metadata": {
        "id": "P0-ZpVsM7fo6"
      },
      "execution_count": null,
      "outputs": []
    },
    {
      "cell_type": "markdown",
      "source": [
        "## 5. We're going to first do some basic data cleaning on this data:\n",
        "\n",
        "- Converting categorical variables to dummies\n",
        "  - Filter by String Categoricals\n",
        "  - List categorical fields\n",
        "  - Show fields\n",
        "  - Convert to dummies"
      ],
      "metadata": {
        "id": "Pv-PLimI7gkk"
      }
    },
    {
      "cell_type": "code",
      "source": [],
      "metadata": {
        "id": "pbaNGr0c7o3A"
      },
      "execution_count": 2,
      "outputs": []
    },
    {
      "cell_type": "code",
      "source": [],
      "metadata": {
        "id": "Qlwdt5rw8ijq"
      },
      "execution_count": null,
      "outputs": []
    },
    {
      "cell_type": "code",
      "source": [],
      "metadata": {
        "id": "HZLJ6XiQ8ir_"
      },
      "execution_count": null,
      "outputs": []
    },
    {
      "cell_type": "code",
      "source": [],
      "metadata": {
        "id": "TrheqoeZ8iy-"
      },
      "execution_count": null,
      "outputs": []
    },
    {
      "cell_type": "markdown",
      "source": [
        "- Making skew variables symmetric\n",
        "  - Create list of float columns to check for skewing\n",
        "  - define a limit above which we will log tranform\n",
        "  - Show skewed columns\n",
        "  - Create before and after histogram for 'BsmtFin SF 1'"
      ],
      "metadata": {
        "id": "yPymcKbd8Mry"
      }
    },
    {
      "cell_type": "code",
      "source": [],
      "metadata": {
        "id": "wITKK_-z9bTB"
      },
      "execution_count": null,
      "outputs": []
    },
    {
      "cell_type": "code",
      "source": [],
      "metadata": {
        "id": "Ox9UUTnY9y8D"
      },
      "execution_count": null,
      "outputs": []
    },
    {
      "cell_type": "code",
      "source": [],
      "metadata": {
        "id": "B3p42gYJ9y-9"
      },
      "execution_count": null,
      "outputs": []
    },
    {
      "cell_type": "code",
      "source": [],
      "metadata": {
        "id": "sF0o7Mnv9zCY"
      },
      "execution_count": null,
      "outputs": []
    },
    {
      "cell_type": "code",
      "source": [],
      "metadata": {
        "id": "d9U5g9lv9zH_"
      },
      "execution_count": null,
      "outputs": []
    },
    {
      "cell_type": "markdown",
      "source": [
        "## 6. Perform skew tranformation with a for loop for all except 'SalesPrice'"
      ],
      "metadata": {
        "id": "3x4oekuR9zzu"
      }
    },
    {
      "cell_type": "code",
      "source": [],
      "metadata": {
        "id": "HmFFXyj4-hEy"
      },
      "execution_count": null,
      "outputs": []
    },
    {
      "cell_type": "markdown",
      "source": [
        "## 7. Show this partial dataset and fill with Zero any incomplete -> 'Lot Area', 'Overall Qual', 'Overall Cond','Year Built', 'Year Remod/Add', 'Gr Liv Area', 'Full Bath', 'Bedroom AbvGr', 'Fireplaces',         'Garage Cars','SalePrice'"
      ],
      "metadata": {
        "id": "pWFjDoqU-7v1"
      }
    },
    {
      "cell_type": "code",
      "source": [],
      "metadata": {
        "id": "4CjyLLrw_KaB"
      },
      "execution_count": null,
      "outputs": []
    },
    {
      "cell_type": "markdown",
      "source": [
        "##8. Do Pairplot of features"
      ],
      "metadata": {
        "id": "OLQnTskg_SvB"
      }
    },
    {
      "cell_type": "code",
      "source": [],
      "metadata": {
        "id": "KFWczxHi_tix"
      },
      "execution_count": null,
      "outputs": []
    },
    {
      "cell_type": "markdown",
      "source": [
        "### 9. Define X and y\n",
        "using ->\n",
        "'Lot Area', 'Overall Qual', 'Overall Cond','Year Built', 'Year Remod/Add', 'Gr Liv Area', 'Full Bath', 'Bedroom AbvGr', 'Fireplaces', \n",
        "      'Garage Cars'"
      ],
      "metadata": {
        "id": "iIM1CwE4_4L-"
      }
    },
    {
      "cell_type": "code",
      "source": [],
      "metadata": {
        "id": "7HbCHBf0_8Hl"
      },
      "execution_count": null,
      "outputs": []
    },
    {
      "cell_type": "markdown",
      "source": [
        "# Basic feature engineering: adding polynomial and interaction terms"
      ],
      "metadata": {
        "id": "-hIjExEUAIzM"
      }
    },
    {
      "cell_type": "markdown",
      "source": [
        "## Polynomial **Features**"
      ],
      "metadata": {
        "id": "dHdWVARPAVNU"
      }
    },
    {
      "cell_type": "markdown",
      "source": [
        "### 10. Create X2 a copy of X with 'OQ2' and 'GLA2' as pow 2"
      ],
      "metadata": {
        "id": "ndVzGS6RAk4c"
      }
    },
    {
      "cell_type": "code",
      "source": [],
      "metadata": {
        "id": "ljO8KqdUATtJ"
      },
      "execution_count": null,
      "outputs": []
    },
    {
      "cell_type": "markdown",
      "source": [
        "### 11. Create X3, a copy of X2 with a multiplicative interaction 'Overall Qual' and 'Year Built'"
      ],
      "metadata": {
        "id": "ne52yuIDBF7U"
      }
    },
    {
      "cell_type": "code",
      "source": [],
      "metadata": {
        "id": "a9fv6kKDBay1"
      },
      "execution_count": null,
      "outputs": []
    },
    {
      "cell_type": "markdown",
      "source": [
        "### 12. On X3 create division interaction 'Overall Qual' and 'Lot Area'"
      ],
      "metadata": {
        "id": "0o1RtzZpBdFk"
      }
    },
    {
      "cell_type": "code",
      "source": [],
      "metadata": {
        "id": "NqhcaSCxBp9G"
      },
      "execution_count": null,
      "outputs": []
    },
    {
      "cell_type": "markdown",
      "source": [
        "### 13. Count 'House Style'"
      ],
      "metadata": {
        "id": "3ixemyKXCFO1"
      }
    },
    {
      "cell_type": "code",
      "source": [],
      "metadata": {
        "id": "ePBLTIlFCHJ9"
      },
      "execution_count": null,
      "outputs": []
    },
    {
      "cell_type": "markdown",
      "source": [
        "### 14. Do a quick view of how dummy features actually appear for House Style"
      ],
      "metadata": {
        "id": "8s2ByUSZCH7N"
      }
    },
    {
      "cell_type": "code",
      "source": [],
      "metadata": {
        "id": "viGBGl5kCWl-"
      },
      "execution_count": null,
      "outputs": []
    },
    {
      "cell_type": "markdown",
      "source": [
        "## 15. Create a list of Neighborhoods with less than 8\n",
        "- Counst all values\n",
        "- Create X4, a copy of X3 where the replace is made"
      ],
      "metadata": {
        "id": "-yVxG7leCtru"
      }
    },
    {
      "cell_type": "code",
      "source": [],
      "metadata": {
        "id": "tMPvBVhDDUKD"
      },
      "execution_count": null,
      "outputs": []
    },
    {
      "cell_type": "markdown",
      "source": [
        "## Getting to fancier features add deviation feature for 'House Style' and 'Year Built', and for 'Overall Qual' and 'Neighborhood'"
      ],
      "metadata": {
        "id": "htg0zHIBDVjO"
      }
    },
    {
      "cell_type": "code",
      "source": [],
      "metadata": {
        "id": "8SAn58xtDYf-"
      },
      "execution_count": null,
      "outputs": []
    },
    {
      "cell_type": "markdown",
      "source": [
        "# Polynomial Features in Scikit-Learn\n"
      ],
      "metadata": {
        "id": "DOfKRph6Javb"
      }
    },
    {
      "cell_type": "markdown",
      "source": [
        "Import the library and Instantiate"
      ],
      "metadata": {
        "id": "L01Md0HzJl40"
      }
    },
    {
      "cell_type": "code",
      "source": [],
      "metadata": {
        "id": "TIoJEUlIJhkM"
      },
      "execution_count": null,
      "outputs": []
    }
  ]
}