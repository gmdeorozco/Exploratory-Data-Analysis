{
  "nbformat": 4,
  "nbformat_minor": 0,
  "metadata": {
    "colab": {
      "provenance": [],
      "authorship_tag": "ABX9TyPUdDiYAzPqk0EuMNW4X55g",
      "include_colab_link": true
    },
    "kernelspec": {
      "name": "python3",
      "display_name": "Python 3"
    },
    "language_info": {
      "name": "python"
    }
  },
  "cells": [
    {
      "cell_type": "markdown",
      "metadata": {
        "id": "view-in-github",
        "colab_type": "text"
      },
      "source": [
        "<a href=\"https://colab.research.google.com/github/gmdeorozco/Exploratory-Data-Analysis/blob/main/Replica3_FeatureEng_1_6.ipynb\" target=\"_parent\"><img src=\"https://colab.research.google.com/assets/colab-badge.svg\" alt=\"Open In Colab\"/></a>"
      ]
    },
    {
      "cell_type": "markdown",
      "source": [
        "### 1. Import Packages"
      ],
      "metadata": {
        "id": "FJ0mu-Aw3-x-"
      }
    },
    {
      "cell_type": "code",
      "execution_count": 1,
      "metadata": {
        "id": "v6nnRqx23TFv"
      },
      "outputs": [],
      "source": [
        "import pandas as pd\n",
        "import numpy as np\n",
        "import matplotlib.pyplot as plt\n",
        "import seaborn as sns\n",
        "%matplotlib inline"
      ]
    },
    {
      "cell_type": "markdown",
      "source": [
        "## 2. Load Data \n",
        "sep = \\t"
      ],
      "metadata": {
        "id": "tcu3VjS94EHi"
      }
    },
    {
      "cell_type": "code",
      "source": [
        "URL = 'https://cf-courses-data.s3.us.cloud-object-storage.appdomain.cloud/IBM-ML0232EN-SkillsNetwork/asset/Ames_Housing_Data.tsv'\n",
        "data = pd.read_csv(URL, sep='\\t')"
      ],
      "metadata": {
        "id": "ykKlnFV-4HAO"
      },
      "execution_count": 2,
      "outputs": []
    },
    {
      "cell_type": "markdown",
      "source": [
        "## 4. Create a dataset including Gr Liv Area lower or equal to 4000"
      ],
      "metadata": {
        "id": "MZl2sdMi7MWC"
      }
    },
    {
      "cell_type": "code",
      "source": [
        "data2 = data.loc[data['Gr Liv Area'] <= 4000]"
      ],
      "metadata": {
        "id": "P0-ZpVsM7fo6"
      },
      "execution_count": 3,
      "outputs": []
    },
    {
      "cell_type": "markdown",
      "source": [
        "## 5. We're going to first do some basic data cleaning on this data:\n",
        "\n",
        "- Converting categorical variables to dummies\n",
        "  - Filter by String Categoricals\n",
        "  - List categorical fields\n",
        "  - Show fields\n",
        "  - Convert to dummies"
      ],
      "metadata": {
        "id": "Pv-PLimI7gkk"
      }
    },
    {
      "cell_type": "code",
      "source": [
        "string_cols = data2.dtypes[data2.dtypes==object]"
      ],
      "metadata": {
        "id": "pbaNGr0c7o3A"
      },
      "execution_count": 4,
      "outputs": []
    },
    {
      "cell_type": "code",
      "source": [
        "string_cols = string_cols.index.values.tolist()"
      ],
      "metadata": {
        "id": "Qlwdt5rw8ijq"
      },
      "execution_count": 5,
      "outputs": []
    },
    {
      "cell_type": "code",
      "source": [
        "data2[string_cols].describe().T"
      ],
      "metadata": {
        "id": "HZLJ6XiQ8ir_",
        "colab": {
          "base_uri": "https://localhost:8080/",
          "height": 1000
        },
        "outputId": "62ffda96-a5bd-4cba-ca3c-52af989f75a8"
      },
      "execution_count": 7,
      "outputs": [
        {
          "output_type": "execute_result",
          "data": {
            "text/plain": [
              "               count unique      top  freq\n",
              "MS Zoning       2925      7       RL  2268\n",
              "Street          2925      2     Pave  2913\n",
              "Alley            198      2     Grvl   120\n",
              "Lot Shape       2925      4      Reg  1859\n",
              "Land Contour    2925      4      Lvl  2631\n",
              "Utilities       2925      3   AllPub  2922\n",
              "Lot Config      2925      5   Inside  2138\n",
              "Land Slope      2925      3      Gtl  2784\n",
              "Neighborhood    2925     28    NAmes   443\n",
              "Condition 1     2925      9     Norm  2519\n",
              "Condition 2     2925      8     Norm  2896\n",
              "Bldg Type       2925      5     1Fam  2420\n",
              "House Style     2925      8   1Story  1480\n",
              "Roof Style      2925      6    Gable  2320\n",
              "Roof Matl       2925      7  CompShg  2884\n",
              "Exterior 1st    2925     16  VinylSd  1026\n",
              "Exterior 2nd    2925     17  VinylSd  1015\n",
              "Mas Vnr Type    2902      5     None  1751\n",
              "Exter Qual      2925      4       TA  1799\n",
              "Exter Cond      2925      5       TA  2544\n",
              "Foundation      2925      6    PConc  1305\n",
              "Bsmt Qual       2845      5       TA  1283\n",
              "Bsmt Cond       2845      5       TA  2611\n",
              "Bsmt Exposure   2842      4       No  1906\n",
              "BsmtFin Type 1  2845      6      GLQ   854\n",
              "BsmtFin Type 2  2844      6      Unf  2494\n",
              "Heating         2925      6     GasA  2880\n",
              "Heating QC      2925      5       Ex  1490\n",
              "Central Air     2925      2        Y  2729\n",
              "Electrical      2924      5    SBrkr  2677\n",
              "Kitchen Qual    2925      5       TA  1494\n",
              "Functional      2925      8      Typ  2723\n",
              "Fireplace Qu    1503      5       Gd   741\n",
              "Garage Type     2768      6   Attchd  1727\n",
              "Garage Finish   2766      3      Unf  1231\n",
              "Garage Qual     2766      5       TA  2610\n",
              "Garage Cond     2766      5       TA  2660\n",
              "Paved Drive     2925      3        Y  2647\n",
              "Pool QC           11      4       Ex     3\n",
              "Fence            571      4    MnPrv   329\n",
              "Misc Feature     105      4     Shed    95\n",
              "Sale Type       2925     10      WD   2534\n",
              "Sale Condition  2925      6   Normal  2412"
            ],
            "text/html": [
              "\n",
              "  <div id=\"df-322cd6ed-98ae-45d7-8dde-7fec80bd4348\">\n",
              "    <div class=\"colab-df-container\">\n",
              "      <div>\n",
              "<style scoped>\n",
              "    .dataframe tbody tr th:only-of-type {\n",
              "        vertical-align: middle;\n",
              "    }\n",
              "\n",
              "    .dataframe tbody tr th {\n",
              "        vertical-align: top;\n",
              "    }\n",
              "\n",
              "    .dataframe thead th {\n",
              "        text-align: right;\n",
              "    }\n",
              "</style>\n",
              "<table border=\"1\" class=\"dataframe\">\n",
              "  <thead>\n",
              "    <tr style=\"text-align: right;\">\n",
              "      <th></th>\n",
              "      <th>count</th>\n",
              "      <th>unique</th>\n",
              "      <th>top</th>\n",
              "      <th>freq</th>\n",
              "    </tr>\n",
              "  </thead>\n",
              "  <tbody>\n",
              "    <tr>\n",
              "      <th>MS Zoning</th>\n",
              "      <td>2925</td>\n",
              "      <td>7</td>\n",
              "      <td>RL</td>\n",
              "      <td>2268</td>\n",
              "    </tr>\n",
              "    <tr>\n",
              "      <th>Street</th>\n",
              "      <td>2925</td>\n",
              "      <td>2</td>\n",
              "      <td>Pave</td>\n",
              "      <td>2913</td>\n",
              "    </tr>\n",
              "    <tr>\n",
              "      <th>Alley</th>\n",
              "      <td>198</td>\n",
              "      <td>2</td>\n",
              "      <td>Grvl</td>\n",
              "      <td>120</td>\n",
              "    </tr>\n",
              "    <tr>\n",
              "      <th>Lot Shape</th>\n",
              "      <td>2925</td>\n",
              "      <td>4</td>\n",
              "      <td>Reg</td>\n",
              "      <td>1859</td>\n",
              "    </tr>\n",
              "    <tr>\n",
              "      <th>Land Contour</th>\n",
              "      <td>2925</td>\n",
              "      <td>4</td>\n",
              "      <td>Lvl</td>\n",
              "      <td>2631</td>\n",
              "    </tr>\n",
              "    <tr>\n",
              "      <th>Utilities</th>\n",
              "      <td>2925</td>\n",
              "      <td>3</td>\n",
              "      <td>AllPub</td>\n",
              "      <td>2922</td>\n",
              "    </tr>\n",
              "    <tr>\n",
              "      <th>Lot Config</th>\n",
              "      <td>2925</td>\n",
              "      <td>5</td>\n",
              "      <td>Inside</td>\n",
              "      <td>2138</td>\n",
              "    </tr>\n",
              "    <tr>\n",
              "      <th>Land Slope</th>\n",
              "      <td>2925</td>\n",
              "      <td>3</td>\n",
              "      <td>Gtl</td>\n",
              "      <td>2784</td>\n",
              "    </tr>\n",
              "    <tr>\n",
              "      <th>Neighborhood</th>\n",
              "      <td>2925</td>\n",
              "      <td>28</td>\n",
              "      <td>NAmes</td>\n",
              "      <td>443</td>\n",
              "    </tr>\n",
              "    <tr>\n",
              "      <th>Condition 1</th>\n",
              "      <td>2925</td>\n",
              "      <td>9</td>\n",
              "      <td>Norm</td>\n",
              "      <td>2519</td>\n",
              "    </tr>\n",
              "    <tr>\n",
              "      <th>Condition 2</th>\n",
              "      <td>2925</td>\n",
              "      <td>8</td>\n",
              "      <td>Norm</td>\n",
              "      <td>2896</td>\n",
              "    </tr>\n",
              "    <tr>\n",
              "      <th>Bldg Type</th>\n",
              "      <td>2925</td>\n",
              "      <td>5</td>\n",
              "      <td>1Fam</td>\n",
              "      <td>2420</td>\n",
              "    </tr>\n",
              "    <tr>\n",
              "      <th>House Style</th>\n",
              "      <td>2925</td>\n",
              "      <td>8</td>\n",
              "      <td>1Story</td>\n",
              "      <td>1480</td>\n",
              "    </tr>\n",
              "    <tr>\n",
              "      <th>Roof Style</th>\n",
              "      <td>2925</td>\n",
              "      <td>6</td>\n",
              "      <td>Gable</td>\n",
              "      <td>2320</td>\n",
              "    </tr>\n",
              "    <tr>\n",
              "      <th>Roof Matl</th>\n",
              "      <td>2925</td>\n",
              "      <td>7</td>\n",
              "      <td>CompShg</td>\n",
              "      <td>2884</td>\n",
              "    </tr>\n",
              "    <tr>\n",
              "      <th>Exterior 1st</th>\n",
              "      <td>2925</td>\n",
              "      <td>16</td>\n",
              "      <td>VinylSd</td>\n",
              "      <td>1026</td>\n",
              "    </tr>\n",
              "    <tr>\n",
              "      <th>Exterior 2nd</th>\n",
              "      <td>2925</td>\n",
              "      <td>17</td>\n",
              "      <td>VinylSd</td>\n",
              "      <td>1015</td>\n",
              "    </tr>\n",
              "    <tr>\n",
              "      <th>Mas Vnr Type</th>\n",
              "      <td>2902</td>\n",
              "      <td>5</td>\n",
              "      <td>None</td>\n",
              "      <td>1751</td>\n",
              "    </tr>\n",
              "    <tr>\n",
              "      <th>Exter Qual</th>\n",
              "      <td>2925</td>\n",
              "      <td>4</td>\n",
              "      <td>TA</td>\n",
              "      <td>1799</td>\n",
              "    </tr>\n",
              "    <tr>\n",
              "      <th>Exter Cond</th>\n",
              "      <td>2925</td>\n",
              "      <td>5</td>\n",
              "      <td>TA</td>\n",
              "      <td>2544</td>\n",
              "    </tr>\n",
              "    <tr>\n",
              "      <th>Foundation</th>\n",
              "      <td>2925</td>\n",
              "      <td>6</td>\n",
              "      <td>PConc</td>\n",
              "      <td>1305</td>\n",
              "    </tr>\n",
              "    <tr>\n",
              "      <th>Bsmt Qual</th>\n",
              "      <td>2845</td>\n",
              "      <td>5</td>\n",
              "      <td>TA</td>\n",
              "      <td>1283</td>\n",
              "    </tr>\n",
              "    <tr>\n",
              "      <th>Bsmt Cond</th>\n",
              "      <td>2845</td>\n",
              "      <td>5</td>\n",
              "      <td>TA</td>\n",
              "      <td>2611</td>\n",
              "    </tr>\n",
              "    <tr>\n",
              "      <th>Bsmt Exposure</th>\n",
              "      <td>2842</td>\n",
              "      <td>4</td>\n",
              "      <td>No</td>\n",
              "      <td>1906</td>\n",
              "    </tr>\n",
              "    <tr>\n",
              "      <th>BsmtFin Type 1</th>\n",
              "      <td>2845</td>\n",
              "      <td>6</td>\n",
              "      <td>GLQ</td>\n",
              "      <td>854</td>\n",
              "    </tr>\n",
              "    <tr>\n",
              "      <th>BsmtFin Type 2</th>\n",
              "      <td>2844</td>\n",
              "      <td>6</td>\n",
              "      <td>Unf</td>\n",
              "      <td>2494</td>\n",
              "    </tr>\n",
              "    <tr>\n",
              "      <th>Heating</th>\n",
              "      <td>2925</td>\n",
              "      <td>6</td>\n",
              "      <td>GasA</td>\n",
              "      <td>2880</td>\n",
              "    </tr>\n",
              "    <tr>\n",
              "      <th>Heating QC</th>\n",
              "      <td>2925</td>\n",
              "      <td>5</td>\n",
              "      <td>Ex</td>\n",
              "      <td>1490</td>\n",
              "    </tr>\n",
              "    <tr>\n",
              "      <th>Central Air</th>\n",
              "      <td>2925</td>\n",
              "      <td>2</td>\n",
              "      <td>Y</td>\n",
              "      <td>2729</td>\n",
              "    </tr>\n",
              "    <tr>\n",
              "      <th>Electrical</th>\n",
              "      <td>2924</td>\n",
              "      <td>5</td>\n",
              "      <td>SBrkr</td>\n",
              "      <td>2677</td>\n",
              "    </tr>\n",
              "    <tr>\n",
              "      <th>Kitchen Qual</th>\n",
              "      <td>2925</td>\n",
              "      <td>5</td>\n",
              "      <td>TA</td>\n",
              "      <td>1494</td>\n",
              "    </tr>\n",
              "    <tr>\n",
              "      <th>Functional</th>\n",
              "      <td>2925</td>\n",
              "      <td>8</td>\n",
              "      <td>Typ</td>\n",
              "      <td>2723</td>\n",
              "    </tr>\n",
              "    <tr>\n",
              "      <th>Fireplace Qu</th>\n",
              "      <td>1503</td>\n",
              "      <td>5</td>\n",
              "      <td>Gd</td>\n",
              "      <td>741</td>\n",
              "    </tr>\n",
              "    <tr>\n",
              "      <th>Garage Type</th>\n",
              "      <td>2768</td>\n",
              "      <td>6</td>\n",
              "      <td>Attchd</td>\n",
              "      <td>1727</td>\n",
              "    </tr>\n",
              "    <tr>\n",
              "      <th>Garage Finish</th>\n",
              "      <td>2766</td>\n",
              "      <td>3</td>\n",
              "      <td>Unf</td>\n",
              "      <td>1231</td>\n",
              "    </tr>\n",
              "    <tr>\n",
              "      <th>Garage Qual</th>\n",
              "      <td>2766</td>\n",
              "      <td>5</td>\n",
              "      <td>TA</td>\n",
              "      <td>2610</td>\n",
              "    </tr>\n",
              "    <tr>\n",
              "      <th>Garage Cond</th>\n",
              "      <td>2766</td>\n",
              "      <td>5</td>\n",
              "      <td>TA</td>\n",
              "      <td>2660</td>\n",
              "    </tr>\n",
              "    <tr>\n",
              "      <th>Paved Drive</th>\n",
              "      <td>2925</td>\n",
              "      <td>3</td>\n",
              "      <td>Y</td>\n",
              "      <td>2647</td>\n",
              "    </tr>\n",
              "    <tr>\n",
              "      <th>Pool QC</th>\n",
              "      <td>11</td>\n",
              "      <td>4</td>\n",
              "      <td>Ex</td>\n",
              "      <td>3</td>\n",
              "    </tr>\n",
              "    <tr>\n",
              "      <th>Fence</th>\n",
              "      <td>571</td>\n",
              "      <td>4</td>\n",
              "      <td>MnPrv</td>\n",
              "      <td>329</td>\n",
              "    </tr>\n",
              "    <tr>\n",
              "      <th>Misc Feature</th>\n",
              "      <td>105</td>\n",
              "      <td>4</td>\n",
              "      <td>Shed</td>\n",
              "      <td>95</td>\n",
              "    </tr>\n",
              "    <tr>\n",
              "      <th>Sale Type</th>\n",
              "      <td>2925</td>\n",
              "      <td>10</td>\n",
              "      <td>WD</td>\n",
              "      <td>2534</td>\n",
              "    </tr>\n",
              "    <tr>\n",
              "      <th>Sale Condition</th>\n",
              "      <td>2925</td>\n",
              "      <td>6</td>\n",
              "      <td>Normal</td>\n",
              "      <td>2412</td>\n",
              "    </tr>\n",
              "  </tbody>\n",
              "</table>\n",
              "</div>\n",
              "      <button class=\"colab-df-convert\" onclick=\"convertToInteractive('df-322cd6ed-98ae-45d7-8dde-7fec80bd4348')\"\n",
              "              title=\"Convert this dataframe to an interactive table.\"\n",
              "              style=\"display:none;\">\n",
              "        \n",
              "  <svg xmlns=\"http://www.w3.org/2000/svg\" height=\"24px\"viewBox=\"0 0 24 24\"\n",
              "       width=\"24px\">\n",
              "    <path d=\"M0 0h24v24H0V0z\" fill=\"none\"/>\n",
              "    <path d=\"M18.56 5.44l.94 2.06.94-2.06 2.06-.94-2.06-.94-.94-2.06-.94 2.06-2.06.94zm-11 1L8.5 8.5l.94-2.06 2.06-.94-2.06-.94L8.5 2.5l-.94 2.06-2.06.94zm10 10l.94 2.06.94-2.06 2.06-.94-2.06-.94-.94-2.06-.94 2.06-2.06.94z\"/><path d=\"M17.41 7.96l-1.37-1.37c-.4-.4-.92-.59-1.43-.59-.52 0-1.04.2-1.43.59L10.3 9.45l-7.72 7.72c-.78.78-.78 2.05 0 2.83L4 21.41c.39.39.9.59 1.41.59.51 0 1.02-.2 1.41-.59l7.78-7.78 2.81-2.81c.8-.78.8-2.07 0-2.86zM5.41 20L4 18.59l7.72-7.72 1.47 1.35L5.41 20z\"/>\n",
              "  </svg>\n",
              "      </button>\n",
              "      \n",
              "  <style>\n",
              "    .colab-df-container {\n",
              "      display:flex;\n",
              "      flex-wrap:wrap;\n",
              "      gap: 12px;\n",
              "    }\n",
              "\n",
              "    .colab-df-convert {\n",
              "      background-color: #E8F0FE;\n",
              "      border: none;\n",
              "      border-radius: 50%;\n",
              "      cursor: pointer;\n",
              "      display: none;\n",
              "      fill: #1967D2;\n",
              "      height: 32px;\n",
              "      padding: 0 0 0 0;\n",
              "      width: 32px;\n",
              "    }\n",
              "\n",
              "    .colab-df-convert:hover {\n",
              "      background-color: #E2EBFA;\n",
              "      box-shadow: 0px 1px 2px rgba(60, 64, 67, 0.3), 0px 1px 3px 1px rgba(60, 64, 67, 0.15);\n",
              "      fill: #174EA6;\n",
              "    }\n",
              "\n",
              "    [theme=dark] .colab-df-convert {\n",
              "      background-color: #3B4455;\n",
              "      fill: #D2E3FC;\n",
              "    }\n",
              "\n",
              "    [theme=dark] .colab-df-convert:hover {\n",
              "      background-color: #434B5C;\n",
              "      box-shadow: 0px 1px 3px 1px rgba(0, 0, 0, 0.15);\n",
              "      filter: drop-shadow(0px 1px 2px rgba(0, 0, 0, 0.3));\n",
              "      fill: #FFFFFF;\n",
              "    }\n",
              "  </style>\n",
              "\n",
              "      <script>\n",
              "        const buttonEl =\n",
              "          document.querySelector('#df-322cd6ed-98ae-45d7-8dde-7fec80bd4348 button.colab-df-convert');\n",
              "        buttonEl.style.display =\n",
              "          google.colab.kernel.accessAllowed ? 'block' : 'none';\n",
              "\n",
              "        async function convertToInteractive(key) {\n",
              "          const element = document.querySelector('#df-322cd6ed-98ae-45d7-8dde-7fec80bd4348');\n",
              "          const dataTable =\n",
              "            await google.colab.kernel.invokeFunction('convertToInteractive',\n",
              "                                                     [key], {});\n",
              "          if (!dataTable) return;\n",
              "\n",
              "          const docLinkHtml = 'Like what you see? Visit the ' +\n",
              "            '<a target=\"_blank\" href=https://colab.research.google.com/notebooks/data_table.ipynb>data table notebook</a>'\n",
              "            + ' to learn more about interactive tables.';\n",
              "          element.innerHTML = '';\n",
              "          dataTable['output_type'] = 'display_data';\n",
              "          await google.colab.output.renderOutput(dataTable, element);\n",
              "          const docLink = document.createElement('div');\n",
              "          docLink.innerHTML = docLinkHtml;\n",
              "          element.appendChild(docLink);\n",
              "        }\n",
              "      </script>\n",
              "    </div>\n",
              "  </div>\n",
              "  "
            ]
          },
          "metadata": {},
          "execution_count": 7
        }
      ]
    },
    {
      "cell_type": "code",
      "source": [
        "data2 = pd.get_dummies(data2, columns=string_cols, drop_first=True )\n",
        "data2.describe().T"
      ],
      "metadata": {
        "id": "TrheqoeZ8iy-",
        "colab": {
          "base_uri": "https://localhost:8080/",
          "height": 424
        },
        "outputId": "978b88fb-fb2f-4649-c6e5-bc6562362ea2"
      },
      "execution_count": 9,
      "outputs": [
        {
          "output_type": "execute_result",
          "data": {
            "text/plain": [
              "                         count          mean           std          min  \\\n",
              "Order                   2925.0  1.464795e+03  8.464417e+02          1.0   \n",
              "PID                     2925.0  7.143931e+08  1.887274e+08  526301100.0   \n",
              "MS SubClass             2925.0  5.739658e+01  4.266875e+01         20.0   \n",
              "Lot Frontage            2435.0  6.902382e+01  2.271092e+01         21.0   \n",
              "Lot Area                2925.0  1.010358e+04  7.781999e+03       1300.0   \n",
              "...                        ...           ...           ...          ...   \n",
              "Sale Condition_AdjLand  2925.0  4.102564e-03  6.393067e-02          0.0   \n",
              "Sale Condition_Alloca   2925.0  8.205128e-03  9.022520e-02          0.0   \n",
              "Sale Condition_Family   2925.0  1.572650e-02  1.244366e-01          0.0   \n",
              "Sale Condition_Normal   2925.0  8.246154e-01  3.803608e-01          0.0   \n",
              "Sale Condition_Partial  2925.0  8.273504e-02  2.755284e-01          0.0   \n",
              "\n",
              "                                25%          50%          75%           max  \n",
              "Order                         732.0       1463.0       2199.0  2.930000e+03  \n",
              "PID                     528477030.0  535453210.0  907180130.0  1.007100e+09  \n",
              "MS SubClass                    20.0         50.0         70.0  1.900000e+02  \n",
              "Lot Frontage                   58.0         68.0         80.0  3.130000e+02  \n",
              "Lot Area                     7438.0       9428.0      11515.0  2.152450e+05  \n",
              "...                             ...          ...          ...           ...  \n",
              "Sale Condition_AdjLand          0.0          0.0          0.0  1.000000e+00  \n",
              "Sale Condition_Alloca           0.0          0.0          0.0  1.000000e+00  \n",
              "Sale Condition_Family           0.0          0.0          0.0  1.000000e+00  \n",
              "Sale Condition_Normal           1.0          1.0          1.0  1.000000e+00  \n",
              "Sale Condition_Partial          0.0          0.0          0.0  1.000000e+00  \n",
              "\n",
              "[262 rows x 8 columns]"
            ],
            "text/html": [
              "\n",
              "  <div id=\"df-75635cda-0866-453b-90c8-496e9f7bff0b\">\n",
              "    <div class=\"colab-df-container\">\n",
              "      <div>\n",
              "<style scoped>\n",
              "    .dataframe tbody tr th:only-of-type {\n",
              "        vertical-align: middle;\n",
              "    }\n",
              "\n",
              "    .dataframe tbody tr th {\n",
              "        vertical-align: top;\n",
              "    }\n",
              "\n",
              "    .dataframe thead th {\n",
              "        text-align: right;\n",
              "    }\n",
              "</style>\n",
              "<table border=\"1\" class=\"dataframe\">\n",
              "  <thead>\n",
              "    <tr style=\"text-align: right;\">\n",
              "      <th></th>\n",
              "      <th>count</th>\n",
              "      <th>mean</th>\n",
              "      <th>std</th>\n",
              "      <th>min</th>\n",
              "      <th>25%</th>\n",
              "      <th>50%</th>\n",
              "      <th>75%</th>\n",
              "      <th>max</th>\n",
              "    </tr>\n",
              "  </thead>\n",
              "  <tbody>\n",
              "    <tr>\n",
              "      <th>Order</th>\n",
              "      <td>2925.0</td>\n",
              "      <td>1.464795e+03</td>\n",
              "      <td>8.464417e+02</td>\n",
              "      <td>1.0</td>\n",
              "      <td>732.0</td>\n",
              "      <td>1463.0</td>\n",
              "      <td>2199.0</td>\n",
              "      <td>2.930000e+03</td>\n",
              "    </tr>\n",
              "    <tr>\n",
              "      <th>PID</th>\n",
              "      <td>2925.0</td>\n",
              "      <td>7.143931e+08</td>\n",
              "      <td>1.887274e+08</td>\n",
              "      <td>526301100.0</td>\n",
              "      <td>528477030.0</td>\n",
              "      <td>535453210.0</td>\n",
              "      <td>907180130.0</td>\n",
              "      <td>1.007100e+09</td>\n",
              "    </tr>\n",
              "    <tr>\n",
              "      <th>MS SubClass</th>\n",
              "      <td>2925.0</td>\n",
              "      <td>5.739658e+01</td>\n",
              "      <td>4.266875e+01</td>\n",
              "      <td>20.0</td>\n",
              "      <td>20.0</td>\n",
              "      <td>50.0</td>\n",
              "      <td>70.0</td>\n",
              "      <td>1.900000e+02</td>\n",
              "    </tr>\n",
              "    <tr>\n",
              "      <th>Lot Frontage</th>\n",
              "      <td>2435.0</td>\n",
              "      <td>6.902382e+01</td>\n",
              "      <td>2.271092e+01</td>\n",
              "      <td>21.0</td>\n",
              "      <td>58.0</td>\n",
              "      <td>68.0</td>\n",
              "      <td>80.0</td>\n",
              "      <td>3.130000e+02</td>\n",
              "    </tr>\n",
              "    <tr>\n",
              "      <th>Lot Area</th>\n",
              "      <td>2925.0</td>\n",
              "      <td>1.010358e+04</td>\n",
              "      <td>7.781999e+03</td>\n",
              "      <td>1300.0</td>\n",
              "      <td>7438.0</td>\n",
              "      <td>9428.0</td>\n",
              "      <td>11515.0</td>\n",
              "      <td>2.152450e+05</td>\n",
              "    </tr>\n",
              "    <tr>\n",
              "      <th>...</th>\n",
              "      <td>...</td>\n",
              "      <td>...</td>\n",
              "      <td>...</td>\n",
              "      <td>...</td>\n",
              "      <td>...</td>\n",
              "      <td>...</td>\n",
              "      <td>...</td>\n",
              "      <td>...</td>\n",
              "    </tr>\n",
              "    <tr>\n",
              "      <th>Sale Condition_AdjLand</th>\n",
              "      <td>2925.0</td>\n",
              "      <td>4.102564e-03</td>\n",
              "      <td>6.393067e-02</td>\n",
              "      <td>0.0</td>\n",
              "      <td>0.0</td>\n",
              "      <td>0.0</td>\n",
              "      <td>0.0</td>\n",
              "      <td>1.000000e+00</td>\n",
              "    </tr>\n",
              "    <tr>\n",
              "      <th>Sale Condition_Alloca</th>\n",
              "      <td>2925.0</td>\n",
              "      <td>8.205128e-03</td>\n",
              "      <td>9.022520e-02</td>\n",
              "      <td>0.0</td>\n",
              "      <td>0.0</td>\n",
              "      <td>0.0</td>\n",
              "      <td>0.0</td>\n",
              "      <td>1.000000e+00</td>\n",
              "    </tr>\n",
              "    <tr>\n",
              "      <th>Sale Condition_Family</th>\n",
              "      <td>2925.0</td>\n",
              "      <td>1.572650e-02</td>\n",
              "      <td>1.244366e-01</td>\n",
              "      <td>0.0</td>\n",
              "      <td>0.0</td>\n",
              "      <td>0.0</td>\n",
              "      <td>0.0</td>\n",
              "      <td>1.000000e+00</td>\n",
              "    </tr>\n",
              "    <tr>\n",
              "      <th>Sale Condition_Normal</th>\n",
              "      <td>2925.0</td>\n",
              "      <td>8.246154e-01</td>\n",
              "      <td>3.803608e-01</td>\n",
              "      <td>0.0</td>\n",
              "      <td>1.0</td>\n",
              "      <td>1.0</td>\n",
              "      <td>1.0</td>\n",
              "      <td>1.000000e+00</td>\n",
              "    </tr>\n",
              "    <tr>\n",
              "      <th>Sale Condition_Partial</th>\n",
              "      <td>2925.0</td>\n",
              "      <td>8.273504e-02</td>\n",
              "      <td>2.755284e-01</td>\n",
              "      <td>0.0</td>\n",
              "      <td>0.0</td>\n",
              "      <td>0.0</td>\n",
              "      <td>0.0</td>\n",
              "      <td>1.000000e+00</td>\n",
              "    </tr>\n",
              "  </tbody>\n",
              "</table>\n",
              "<p>262 rows × 8 columns</p>\n",
              "</div>\n",
              "      <button class=\"colab-df-convert\" onclick=\"convertToInteractive('df-75635cda-0866-453b-90c8-496e9f7bff0b')\"\n",
              "              title=\"Convert this dataframe to an interactive table.\"\n",
              "              style=\"display:none;\">\n",
              "        \n",
              "  <svg xmlns=\"http://www.w3.org/2000/svg\" height=\"24px\"viewBox=\"0 0 24 24\"\n",
              "       width=\"24px\">\n",
              "    <path d=\"M0 0h24v24H0V0z\" fill=\"none\"/>\n",
              "    <path d=\"M18.56 5.44l.94 2.06.94-2.06 2.06-.94-2.06-.94-.94-2.06-.94 2.06-2.06.94zm-11 1L8.5 8.5l.94-2.06 2.06-.94-2.06-.94L8.5 2.5l-.94 2.06-2.06.94zm10 10l.94 2.06.94-2.06 2.06-.94-2.06-.94-.94-2.06-.94 2.06-2.06.94z\"/><path d=\"M17.41 7.96l-1.37-1.37c-.4-.4-.92-.59-1.43-.59-.52 0-1.04.2-1.43.59L10.3 9.45l-7.72 7.72c-.78.78-.78 2.05 0 2.83L4 21.41c.39.39.9.59 1.41.59.51 0 1.02-.2 1.41-.59l7.78-7.78 2.81-2.81c.8-.78.8-2.07 0-2.86zM5.41 20L4 18.59l7.72-7.72 1.47 1.35L5.41 20z\"/>\n",
              "  </svg>\n",
              "      </button>\n",
              "      \n",
              "  <style>\n",
              "    .colab-df-container {\n",
              "      display:flex;\n",
              "      flex-wrap:wrap;\n",
              "      gap: 12px;\n",
              "    }\n",
              "\n",
              "    .colab-df-convert {\n",
              "      background-color: #E8F0FE;\n",
              "      border: none;\n",
              "      border-radius: 50%;\n",
              "      cursor: pointer;\n",
              "      display: none;\n",
              "      fill: #1967D2;\n",
              "      height: 32px;\n",
              "      padding: 0 0 0 0;\n",
              "      width: 32px;\n",
              "    }\n",
              "\n",
              "    .colab-df-convert:hover {\n",
              "      background-color: #E2EBFA;\n",
              "      box-shadow: 0px 1px 2px rgba(60, 64, 67, 0.3), 0px 1px 3px 1px rgba(60, 64, 67, 0.15);\n",
              "      fill: #174EA6;\n",
              "    }\n",
              "\n",
              "    [theme=dark] .colab-df-convert {\n",
              "      background-color: #3B4455;\n",
              "      fill: #D2E3FC;\n",
              "    }\n",
              "\n",
              "    [theme=dark] .colab-df-convert:hover {\n",
              "      background-color: #434B5C;\n",
              "      box-shadow: 0px 1px 3px 1px rgba(0, 0, 0, 0.15);\n",
              "      filter: drop-shadow(0px 1px 2px rgba(0, 0, 0, 0.3));\n",
              "      fill: #FFFFFF;\n",
              "    }\n",
              "  </style>\n",
              "\n",
              "      <script>\n",
              "        const buttonEl =\n",
              "          document.querySelector('#df-75635cda-0866-453b-90c8-496e9f7bff0b button.colab-df-convert');\n",
              "        buttonEl.style.display =\n",
              "          google.colab.kernel.accessAllowed ? 'block' : 'none';\n",
              "\n",
              "        async function convertToInteractive(key) {\n",
              "          const element = document.querySelector('#df-75635cda-0866-453b-90c8-496e9f7bff0b');\n",
              "          const dataTable =\n",
              "            await google.colab.kernel.invokeFunction('convertToInteractive',\n",
              "                                                     [key], {});\n",
              "          if (!dataTable) return;\n",
              "\n",
              "          const docLinkHtml = 'Like what you see? Visit the ' +\n",
              "            '<a target=\"_blank\" href=https://colab.research.google.com/notebooks/data_table.ipynb>data table notebook</a>'\n",
              "            + ' to learn more about interactive tables.';\n",
              "          element.innerHTML = '';\n",
              "          dataTable['output_type'] = 'display_data';\n",
              "          await google.colab.output.renderOutput(dataTable, element);\n",
              "          const docLink = document.createElement('div');\n",
              "          docLink.innerHTML = docLinkHtml;\n",
              "          element.appendChild(docLink);\n",
              "        }\n",
              "      </script>\n",
              "    </div>\n",
              "  </div>\n",
              "  "
            ]
          },
          "metadata": {},
          "execution_count": 9
        }
      ]
    },
    {
      "cell_type": "markdown",
      "source": [
        "- Making skew variables symmetric\n",
        "  - Create list of float columns to check for skewing\n",
        "  - define a limit above which we will log tranform\n",
        "  - Show skewed columns\n",
        "  - Create before and after histogram for 'BsmtFin SF 1'"
      ],
      "metadata": {
        "id": "yPymcKbd8Mry"
      }
    },
    {
      "cell_type": "code",
      "source": [
        "mask = data2.dtypes == float\n",
        "float_cols = data2.columns[mask]\n",
        "\n",
        "skew_limit = 0.75\n",
        "skew_vals = data2[float_cols].skew()"
      ],
      "metadata": {
        "id": "wITKK_-z9bTB"
      },
      "execution_count": 15,
      "outputs": []
    },
    {
      "cell_type": "code",
      "source": [
        "skew_cols = (skew_vals\n",
        "             .sort_values(ascending=False)\n",
        "             .to_frame()\n",
        "             .rename(columns={0:'Skew'})\n",
        "             .query('abs(Skew)>{}'.format(skew_limit))\n",
        "             )\n",
        "skew_cols"
      ],
      "metadata": {
        "id": "Ox9UUTnY9y8D",
        "colab": {
          "base_uri": "https://localhost:8080/",
          "height": 238
        },
        "outputId": "c25ebce2-d654-4b6e-cda0-e00980864219"
      },
      "execution_count": 17,
      "outputs": [
        {
          "output_type": "execute_result",
          "data": {
            "text/plain": [
              "                    Skew\n",
              "BsmtFin SF 2    4.135900\n",
              "Bsmt Half Bath  3.965970\n",
              "Mas Vnr Area    2.565458\n",
              "Lot Frontage    1.111071\n",
              "Bsmt Unf SF     0.925021\n",
              "BsmtFin SF 1    0.821985"
            ],
            "text/html": [
              "\n",
              "  <div id=\"df-7473702b-6c05-4d47-a35e-8d6948cffe0a\">\n",
              "    <div class=\"colab-df-container\">\n",
              "      <div>\n",
              "<style scoped>\n",
              "    .dataframe tbody tr th:only-of-type {\n",
              "        vertical-align: middle;\n",
              "    }\n",
              "\n",
              "    .dataframe tbody tr th {\n",
              "        vertical-align: top;\n",
              "    }\n",
              "\n",
              "    .dataframe thead th {\n",
              "        text-align: right;\n",
              "    }\n",
              "</style>\n",
              "<table border=\"1\" class=\"dataframe\">\n",
              "  <thead>\n",
              "    <tr style=\"text-align: right;\">\n",
              "      <th></th>\n",
              "      <th>Skew</th>\n",
              "    </tr>\n",
              "  </thead>\n",
              "  <tbody>\n",
              "    <tr>\n",
              "      <th>BsmtFin SF 2</th>\n",
              "      <td>4.135900</td>\n",
              "    </tr>\n",
              "    <tr>\n",
              "      <th>Bsmt Half Bath</th>\n",
              "      <td>3.965970</td>\n",
              "    </tr>\n",
              "    <tr>\n",
              "      <th>Mas Vnr Area</th>\n",
              "      <td>2.565458</td>\n",
              "    </tr>\n",
              "    <tr>\n",
              "      <th>Lot Frontage</th>\n",
              "      <td>1.111071</td>\n",
              "    </tr>\n",
              "    <tr>\n",
              "      <th>Bsmt Unf SF</th>\n",
              "      <td>0.925021</td>\n",
              "    </tr>\n",
              "    <tr>\n",
              "      <th>BsmtFin SF 1</th>\n",
              "      <td>0.821985</td>\n",
              "    </tr>\n",
              "  </tbody>\n",
              "</table>\n",
              "</div>\n",
              "      <button class=\"colab-df-convert\" onclick=\"convertToInteractive('df-7473702b-6c05-4d47-a35e-8d6948cffe0a')\"\n",
              "              title=\"Convert this dataframe to an interactive table.\"\n",
              "              style=\"display:none;\">\n",
              "        \n",
              "  <svg xmlns=\"http://www.w3.org/2000/svg\" height=\"24px\"viewBox=\"0 0 24 24\"\n",
              "       width=\"24px\">\n",
              "    <path d=\"M0 0h24v24H0V0z\" fill=\"none\"/>\n",
              "    <path d=\"M18.56 5.44l.94 2.06.94-2.06 2.06-.94-2.06-.94-.94-2.06-.94 2.06-2.06.94zm-11 1L8.5 8.5l.94-2.06 2.06-.94-2.06-.94L8.5 2.5l-.94 2.06-2.06.94zm10 10l.94 2.06.94-2.06 2.06-.94-2.06-.94-.94-2.06-.94 2.06-2.06.94z\"/><path d=\"M17.41 7.96l-1.37-1.37c-.4-.4-.92-.59-1.43-.59-.52 0-1.04.2-1.43.59L10.3 9.45l-7.72 7.72c-.78.78-.78 2.05 0 2.83L4 21.41c.39.39.9.59 1.41.59.51 0 1.02-.2 1.41-.59l7.78-7.78 2.81-2.81c.8-.78.8-2.07 0-2.86zM5.41 20L4 18.59l7.72-7.72 1.47 1.35L5.41 20z\"/>\n",
              "  </svg>\n",
              "      </button>\n",
              "      \n",
              "  <style>\n",
              "    .colab-df-container {\n",
              "      display:flex;\n",
              "      flex-wrap:wrap;\n",
              "      gap: 12px;\n",
              "    }\n",
              "\n",
              "    .colab-df-convert {\n",
              "      background-color: #E8F0FE;\n",
              "      border: none;\n",
              "      border-radius: 50%;\n",
              "      cursor: pointer;\n",
              "      display: none;\n",
              "      fill: #1967D2;\n",
              "      height: 32px;\n",
              "      padding: 0 0 0 0;\n",
              "      width: 32px;\n",
              "    }\n",
              "\n",
              "    .colab-df-convert:hover {\n",
              "      background-color: #E2EBFA;\n",
              "      box-shadow: 0px 1px 2px rgba(60, 64, 67, 0.3), 0px 1px 3px 1px rgba(60, 64, 67, 0.15);\n",
              "      fill: #174EA6;\n",
              "    }\n",
              "\n",
              "    [theme=dark] .colab-df-convert {\n",
              "      background-color: #3B4455;\n",
              "      fill: #D2E3FC;\n",
              "    }\n",
              "\n",
              "    [theme=dark] .colab-df-convert:hover {\n",
              "      background-color: #434B5C;\n",
              "      box-shadow: 0px 1px 3px 1px rgba(0, 0, 0, 0.15);\n",
              "      filter: drop-shadow(0px 1px 2px rgba(0, 0, 0, 0.3));\n",
              "      fill: #FFFFFF;\n",
              "    }\n",
              "  </style>\n",
              "\n",
              "      <script>\n",
              "        const buttonEl =\n",
              "          document.querySelector('#df-7473702b-6c05-4d47-a35e-8d6948cffe0a button.colab-df-convert');\n",
              "        buttonEl.style.display =\n",
              "          google.colab.kernel.accessAllowed ? 'block' : 'none';\n",
              "\n",
              "        async function convertToInteractive(key) {\n",
              "          const element = document.querySelector('#df-7473702b-6c05-4d47-a35e-8d6948cffe0a');\n",
              "          const dataTable =\n",
              "            await google.colab.kernel.invokeFunction('convertToInteractive',\n",
              "                                                     [key], {});\n",
              "          if (!dataTable) return;\n",
              "\n",
              "          const docLinkHtml = 'Like what you see? Visit the ' +\n",
              "            '<a target=\"_blank\" href=https://colab.research.google.com/notebooks/data_table.ipynb>data table notebook</a>'\n",
              "            + ' to learn more about interactive tables.';\n",
              "          element.innerHTML = '';\n",
              "          dataTable['output_type'] = 'display_data';\n",
              "          await google.colab.output.renderOutput(dataTable, element);\n",
              "          const docLink = document.createElement('div');\n",
              "          docLink.innerHTML = docLinkHtml;\n",
              "          element.appendChild(docLink);\n",
              "        }\n",
              "      </script>\n",
              "    </div>\n",
              "  </div>\n",
              "  "
            ]
          },
          "metadata": {},
          "execution_count": 17
        }
      ]
    },
    {
      "cell_type": "code",
      "source": [
        "field = 'BsmtFin SF 1'\n",
        "fig, (ax_before, ax_after) = plt.subplots(1,2, figsize=(10,5))\n",
        "\n",
        "data2[field].hist(ax=ax_before)\n",
        "data2[field].apply(np.log1p).hist(ax=ax_after)\n",
        "\n",
        "ax_before.set(title='before', xlabel='values', ylabel='frequency')\n",
        "ax_after.set(title='after', xlabel='values', ylabel='frequency')\n",
        "\n",
        "fig.suptitle('Field {}'.format(field))"
      ],
      "metadata": {
        "id": "B3p42gYJ9y-9",
        "colab": {
          "base_uri": "https://localhost:8080/",
          "height": 532
        },
        "outputId": "8a2b8193-80e8-407d-a99e-1220db8cc57f"
      },
      "execution_count": 18,
      "outputs": [
        {
          "output_type": "execute_result",
          "data": {
            "text/plain": [
              "Text(0.5, 0.98, 'Field BsmtFin SF 1')"
            ]
          },
          "metadata": {},
          "execution_count": 18
        },
        {
          "output_type": "display_data",
          "data": {
            "text/plain": [
              "<Figure size 1000x500 with 2 Axes>"
            ],
            "image/png": "[encoded data removed]"
          },
          "metadata": {}
        }
      ]
    },
    {
      "cell_type": "code",
      "source": [],
      "metadata": {
        "id": "sF0o7Mnv9zCY"
      },
      "execution_count": null,
      "outputs": []
    },
    {
      "cell_type": "code",
      "source": [],
      "metadata": {
        "id": "d9U5g9lv9zH_"
      },
      "execution_count": null,
      "outputs": []
    },
    {
      "cell_type": "markdown",
      "source": [
        "## 6. Perform skew tranformation with a for loop for all except 'SalesPrice'"
      ],
      "metadata": {
        "id": "3x4oekuR9zzu"
      }
    },
    {
      "cell_type": "code",
      "source": [
        "for col in skew_cols.index.values:\n",
        "  if col == 'SalePrice':\n",
        "    continue\n",
        "  data2[col] = data2[col].apply(np.log1p)\n"
      ],
      "metadata": {
        "id": "HmFFXyj4-hEy"
      },
      "execution_count": 19,
      "outputs": []
    },
    {
      "cell_type": "markdown",
      "source": [
        "## 7. Show this partial dataset and fill with Zero any incomplete -> 'Lot Area', 'Overall Qual', 'Overall Cond','Year Built', 'Year Remod/Add', 'Gr Liv Area', 'Full Bath', 'Bedroom AbvGr', 'Fireplaces',         'Garage Cars','SalePrice'"
      ],
      "metadata": {
        "id": "pWFjDoqU-7v1"
      }
    },
    {
      "cell_type": "code",
      "source": [],
      "metadata": {
        "id": "4CjyLLrw_KaB"
      },
      "execution_count": null,
      "outputs": []
    },
    {
      "cell_type": "markdown",
      "source": [
        "##8. Do Pairplot of features"
      ],
      "metadata": {
        "id": "OLQnTskg_SvB"
      }
    },
    {
      "cell_type": "code",
      "source": [],
      "metadata": {
        "id": "KFWczxHi_tix"
      },
      "execution_count": null,
      "outputs": []
    },
    {
      "cell_type": "markdown",
      "source": [
        "### 9. Define X and y\n",
        "using ->\n",
        "'Lot Area', 'Overall Qual', 'Overall Cond','Year Built', 'Year Remod/Add', 'Gr Liv Area', 'Full Bath', 'Bedroom AbvGr', 'Fireplaces', \n",
        "      'Garage Cars'"
      ],
      "metadata": {
        "id": "iIM1CwE4_4L-"
      }
    },
    {
      "cell_type": "code",
      "source": [],
      "metadata": {
        "id": "7HbCHBf0_8Hl"
      },
      "execution_count": null,
      "outputs": []
    },
    {
      "cell_type": "markdown",
      "source": [
        "# Basic feature engineering: adding polynomial and interaction terms"
      ],
      "metadata": {
        "id": "-hIjExEUAIzM"
      }
    },
    {
      "cell_type": "markdown",
      "source": [
        "## Polynomial **Features**"
      ],
      "metadata": {
        "id": "dHdWVARPAVNU"
      }
    },
    {
      "cell_type": "markdown",
      "source": [
        "### 10. Create X2 a copy of X with 'OQ2' and 'GLA2' as pow 2"
      ],
      "metadata": {
        "id": "ndVzGS6RAk4c"
      }
    },
    {
      "cell_type": "code",
      "source": [],
      "metadata": {
        "id": "ljO8KqdUATtJ"
      },
      "execution_count": null,
      "outputs": []
    },
    {
      "cell_type": "markdown",
      "source": [
        "### 11. Create X3, a copy of X2 with a multiplicative interaction 'Overall Qual' and 'Year Built'"
      ],
      "metadata": {
        "id": "ne52yuIDBF7U"
      }
    },
    {
      "cell_type": "code",
      "source": [],
      "metadata": {
        "id": "a9fv6kKDBay1"
      },
      "execution_count": null,
      "outputs": []
    },
    {
      "cell_type": "markdown",
      "source": [
        "### 12. On X3 create division interaction 'Overall Qual' and 'Lot Area'"
      ],
      "metadata": {
        "id": "0o1RtzZpBdFk"
      }
    },
    {
      "cell_type": "code",
      "source": [],
      "metadata": {
        "id": "NqhcaSCxBp9G"
      },
      "execution_count": null,
      "outputs": []
    },
    {
      "cell_type": "markdown",
      "source": [
        "### 13. Count 'House Style'"
      ],
      "metadata": {
        "id": "3ixemyKXCFO1"
      }
    },
    {
      "cell_type": "code",
      "source": [],
      "metadata": {
        "id": "ePBLTIlFCHJ9"
      },
      "execution_count": null,
      "outputs": []
    },
    {
      "cell_type": "markdown",
      "source": [
        "### 14. Do a quick view of how dummy features actually appear for House Style"
      ],
      "metadata": {
        "id": "8s2ByUSZCH7N"
      }
    },
    {
      "cell_type": "code",
      "source": [],
      "metadata": {
        "id": "viGBGl5kCWl-"
      },
      "execution_count": null,
      "outputs": []
    },
    {
      "cell_type": "markdown",
      "source": [
        "## 15. Create a list of Neighborhoods with less than 8\n",
        "- Counst all values\n",
        "- Create X4, a copy of X3 where the replace is made"
      ],
      "metadata": {
        "id": "-yVxG7leCtru"
      }
    },
    {
      "cell_type": "code",
      "source": [],
      "metadata": {
        "id": "tMPvBVhDDUKD"
      },
      "execution_count": null,
      "outputs": []
    },
    {
      "cell_type": "markdown",
      "source": [
        "## Getting to fancier features add deviation feature for 'House Style' and 'Year Built', and for 'Overall Qual' and 'Neighborhood'"
      ],
      "metadata": {
        "id": "htg0zHIBDVjO"
      }
    },
    {
      "cell_type": "code",
      "source": [],
      "metadata": {
        "id": "8SAn58xtDYf-"
      },
      "execution_count": null,
      "outputs": []
    },
    {
      "cell_type": "markdown",
      "source": [
        "# Polynomial Features in Scikit-Learn\n"
      ],
      "metadata": {
        "id": "DOfKRph6Javb"
      }
    },
    {
      "cell_type": "markdown",
      "source": [
        "Import the library and Instantiate"
      ],
      "metadata": {
        "id": "L01Md0HzJl40"
      }
    },
    {
      "cell_type": "code",
      "source": [],
      "metadata": {
        "id": "TIoJEUlIJhkM"
      },
      "execution_count": null,
      "outputs": []
    }
  ]
}